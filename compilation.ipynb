{
 "cells": [
  {
   "metadata": {
    "ExecuteTime": {
     "end_time": "2025-08-13T00:22:20.086883Z",
     "start_time": "2025-08-13T00:22:19.761926Z"
    }
   },
   "cell_type": "code",
   "source": [
    "# System modules\n",
    "import os\n",
    "import exdir as ex\n",
    "import warnings\n",
    "warnings.filterwarnings('always', category=UserWarning)\n",
    "warnings.filterwarnings('always', category=DeprecationWarning)\n",
    "\n",
    "# Data processing modules\n",
    "import numpy as np\n",
    "import nsync\n",
    "from scipy.ndimage import gaussian_filter1d\n",
    "\n",
    "# Visualization modules\n",
    "import plotly.graph_objects as go"
   ],
   "id": "f59777e93740a6b4",
   "outputs": [],
   "execution_count": 1
  },
  {
   "metadata": {
    "ExecuteTime": {
     "end_time": "2025-08-13T00:22:29.131472Z",
     "start_time": "2025-08-13T00:22:20.215802Z"
    }
   },
   "cell_type": "code",
   "source": [
    "root = \"./data\"\n",
    "output_path = os.path.join(\"./\", \"compiled_data_2\")\n",
    "if not os.path.exists(output_path):\n",
    "    os.mkdir(output_path)\n",
    "\n",
    "f = ex.File(os.path.join(output_path, \"data.exdir\"), mode=\"w\", allow_remove=True)\n",
    "\n",
    "if os.path.isdir(root):\n",
    "    for day in sorted(os.listdir(root)):\n",
    "        day_path = os.path.join(root, day)\n",
    "        if not os.path.isdir(day_path):\n",
    "            continue\n",
    "\n",
    "        # print(f\"Processing: {day}\")\n",
    "\n",
    "        day_group_name = day.replace(\" \", \"_\")\n",
    "        day_group = f.create_group(day_group_name)\n",
    "        day_group_dataset = []\n",
    "        day_num_neurons = 0\n",
    "\n",
    "        for animal in sorted(os.listdir(day_path)):\n",
    "            animal_path = os.path.join(day_path, animal)\n",
    "            if not os.path.isdir(animal_path):\n",
    "                continue\n",
    "\n",
    "            # print(f\"  -> {animal}\")\n",
    "\n",
    "            animal_group_name = animal.replace(\" \", \"_\")\n",
    "            animal_group = day_group.create_group(animal_group_name)\n",
    "\n",
    "            for fov in sorted(os.listdir(animal_path)):\n",
    "                fov_path = os.path.join(animal_path, fov)\n",
    "                if not os.path.isdir(fov_path):\n",
    "                    continue\n",
    "\n",
    "                # print(\"  \" * 2 + f\"  -> {fov}\")\n",
    "\n",
    "                fov_group_name = fov.replace(\" \", \"_\")\n",
    "                fov_group = animal_group.create_group(fov_group_name)\n",
    "\n",
    "                extracted_signals_files = sorted([os.path.join(fov_path, f) for f in os.listdir(fov_path) if f.endswith(\".npy\") and \"extractedsignals_raw\" in f])\n",
    "                behavior_event_log_files = sorted([os.path.join(fov_path, f) for f in os.listdir(fov_path) if f.endswith(\".mat\")])\n",
    "\n",
    "                dataset = nsync.NSyncDataset(behavior_event_log_files, extracted_signals_files)\n",
    "                day_num_neurons += dataset.num_neurons\n",
    "                extracted_unique_events = dataset.extract_unique_events()\n",
    "                extracted_windows = dataset.extract_normalized_windows()\n",
    "                normalized_extracted_windows = nsync.normalize_windows(extracted_windows)\n",
    "                if normalized_extracted_windows.ndim == 3:\n",
    "                    # day_group_dataset.append(normalized_extracted_windows)\n",
    "                    day_group_dataset.append(extracted_windows)\n",
    "        day_group_dataset = [np.nanmean(d, axis=0) for d in day_group_dataset]\n",
    "        day_group_dataset = np.vstack(day_group_dataset)\n",
    "        day_group.create_dataset(\"dataset\", data=day_group_dataset)\n",
    "\n",
    "        print(f\"Day: {day}, Animals: {len(os.listdir(day_path))}, Num Neurons: {day_num_neurons}\")"
   ],
   "id": "6cad1edf1c9f3cb3",
   "outputs": [
    {
     "name": "stderr",
     "output_type": "stream",
     "text": [
      "C:\\Users\\boqui\\OneDrive\\Desktop\\nsync\\.venv\\Lib\\site-packages\\exdir\\core\\validation.py:61: DeprecationWarning: pathlib.PurePath.is_reserved() is deprecated and scheduled for removal in Python 3.15. Use os.path.isreserved() to detect reserved paths on Windows.\n",
      "  if pathlib.PureWindowsPath(name_str).is_reserved():\n",
      "C:\\Users\\boqui\\OneDrive\\Desktop\\nsync\\.venv\\Lib\\site-packages\\exdir\\core\\validation.py:61: DeprecationWarning: pathlib.PurePath.is_reserved() is deprecated and scheduled for removal in Python 3.15. Use os.path.isreserved() to detect reserved paths on Windows.\n",
      "  if pathlib.PureWindowsPath(name_str).is_reserved():\n",
      "C:\\Users\\boqui\\OneDrive\\Desktop\\nsync\\.venv\\Lib\\site-packages\\exdir\\core\\validation.py:61: DeprecationWarning: pathlib.PurePath.is_reserved() is deprecated and scheduled for removal in Python 3.15. Use os.path.isreserved() to detect reserved paths on Windows.\n",
      "  if pathlib.PureWindowsPath(name_str).is_reserved():\n",
      "C:\\Users\\boqui\\OneDrive\\Desktop\\nsync\\.venv\\Lib\\site-packages\\exdir\\core\\validation.py:61: DeprecationWarning: pathlib.PurePath.is_reserved() is deprecated and scheduled for removal in Python 3.15. Use os.path.isreserved() to detect reserved paths on Windows.\n",
      "  if pathlib.PureWindowsPath(name_str).is_reserved():\n",
      "C:\\Users\\boqui\\OneDrive\\Desktop\\nsync\\.venv\\Lib\\site-packages\\exdir\\core\\validation.py:61: DeprecationWarning: pathlib.PurePath.is_reserved() is deprecated and scheduled for removal in Python 3.15. Use os.path.isreserved() to detect reserved paths on Windows.\n",
      "  if pathlib.PureWindowsPath(name_str).is_reserved():\n",
      "C:\\Users\\boqui\\OneDrive\\Desktop\\nsync\\.venv\\Lib\\site-packages\\exdir\\core\\validation.py:61: DeprecationWarning: pathlib.PurePath.is_reserved() is deprecated and scheduled for removal in Python 3.15. Use os.path.isreserved() to detect reserved paths on Windows.\n",
      "  if pathlib.PureWindowsPath(name_str).is_reserved():\n",
      "C:\\Users\\boqui\\OneDrive\\Desktop\\nsync\\.venv\\Lib\\site-packages\\exdir\\core\\validation.py:61: DeprecationWarning: pathlib.PurePath.is_reserved() is deprecated and scheduled for removal in Python 3.15. Use os.path.isreserved() to detect reserved paths on Windows.\n",
      "  if pathlib.PureWindowsPath(name_str).is_reserved():\n",
      "C:\\Users\\boqui\\OneDrive\\Desktop\\nsync\\.venv\\Lib\\site-packages\\exdir\\core\\validation.py:61: DeprecationWarning: pathlib.PurePath.is_reserved() is deprecated and scheduled for removal in Python 3.15. Use os.path.isreserved() to detect reserved paths on Windows.\n",
      "  if pathlib.PureWindowsPath(name_str).is_reserved():\n",
      "C:\\Users\\boqui\\OneDrive\\Desktop\\nsync\\.venv\\Lib\\site-packages\\exdir\\core\\validation.py:61: DeprecationWarning: pathlib.PurePath.is_reserved() is deprecated and scheduled for removal in Python 3.15. Use os.path.isreserved() to detect reserved paths on Windows.\n",
      "  if pathlib.PureWindowsPath(name_str).is_reserved():\n",
      "C:\\Users\\boqui\\OneDrive\\Desktop\\nsync\\.venv\\Lib\\site-packages\\exdir\\core\\validation.py:61: DeprecationWarning: pathlib.PurePath.is_reserved() is deprecated and scheduled for removal in Python 3.15. Use os.path.isreserved() to detect reserved paths on Windows.\n",
      "  if pathlib.PureWindowsPath(name_str).is_reserved():\n",
      "C:\\Users\\boqui\\OneDrive\\Desktop\\nsync\\.venv\\Lib\\site-packages\\exdir\\core\\validation.py:61: DeprecationWarning: pathlib.PurePath.is_reserved() is deprecated and scheduled for removal in Python 3.15. Use os.path.isreserved() to detect reserved paths on Windows.\n",
      "  if pathlib.PureWindowsPath(name_str).is_reserved():\n",
      "C:\\Users\\boqui\\OneDrive\\Desktop\\nsync\\.venv\\Lib\\site-packages\\exdir\\core\\validation.py:61: DeprecationWarning: pathlib.PurePath.is_reserved() is deprecated and scheduled for removal in Python 3.15. Use os.path.isreserved() to detect reserved paths on Windows.\n",
      "  if pathlib.PureWindowsPath(name_str).is_reserved():\n",
      "C:\\Users\\boqui\\OneDrive\\Desktop\\nsync\\.venv\\Lib\\site-packages\\exdir\\core\\validation.py:61: DeprecationWarning: pathlib.PurePath.is_reserved() is deprecated and scheduled for removal in Python 3.15. Use os.path.isreserved() to detect reserved paths on Windows.\n",
      "  if pathlib.PureWindowsPath(name_str).is_reserved():\n",
      "C:\\Users\\boqui\\OneDrive\\Desktop\\nsync\\.venv\\Lib\\site-packages\\exdir\\core\\validation.py:61: DeprecationWarning: pathlib.PurePath.is_reserved() is deprecated and scheduled for removal in Python 3.15. Use os.path.isreserved() to detect reserved paths on Windows.\n",
      "  if pathlib.PureWindowsPath(name_str).is_reserved():\n",
      "C:\\Users\\boqui\\OneDrive\\Desktop\\nsync\\.venv\\Lib\\site-packages\\exdir\\core\\validation.py:61: DeprecationWarning: pathlib.PurePath.is_reserved() is deprecated and scheduled for removal in Python 3.15. Use os.path.isreserved() to detect reserved paths on Windows.\n",
      "  if pathlib.PureWindowsPath(name_str).is_reserved():\n",
      "C:\\Users\\boqui\\OneDrive\\Desktop\\nsync\\.venv\\Lib\\site-packages\\exdir\\core\\validation.py:61: DeprecationWarning: pathlib.PurePath.is_reserved() is deprecated and scheduled for removal in Python 3.15. Use os.path.isreserved() to detect reserved paths on Windows.\n",
      "  if pathlib.PureWindowsPath(name_str).is_reserved():\n",
      "C:\\Users\\boqui\\OneDrive\\Desktop\\nsync\\.venv\\Lib\\site-packages\\exdir\\core\\validation.py:61: DeprecationWarning: pathlib.PurePath.is_reserved() is deprecated and scheduled for removal in Python 3.15. Use os.path.isreserved() to detect reserved paths on Windows.\n",
      "  if pathlib.PureWindowsPath(name_str).is_reserved():\n",
      "C:\\Users\\boqui\\OneDrive\\Desktop\\nsync\\.venv\\Lib\\site-packages\\exdir\\core\\validation.py:61: DeprecationWarning: pathlib.PurePath.is_reserved() is deprecated and scheduled for removal in Python 3.15. Use os.path.isreserved() to detect reserved paths on Windows.\n",
      "  if pathlib.PureWindowsPath(name_str).is_reserved():\n",
      "C:\\Users\\boqui\\OneDrive\\Desktop\\nsync\\.venv\\Lib\\site-packages\\exdir\\core\\validation.py:61: DeprecationWarning: pathlib.PurePath.is_reserved() is deprecated and scheduled for removal in Python 3.15. Use os.path.isreserved() to detect reserved paths on Windows.\n",
      "  if pathlib.PureWindowsPath(name_str).is_reserved():\n",
      "C:\\Users\\boqui\\OneDrive\\Desktop\\nsync\\.venv\\Lib\\site-packages\\exdir\\core\\validation.py:61: DeprecationWarning: pathlib.PurePath.is_reserved() is deprecated and scheduled for removal in Python 3.15. Use os.path.isreserved() to detect reserved paths on Windows.\n",
      "  if pathlib.PureWindowsPath(name_str).is_reserved():\n",
      "C:\\Users\\boqui\\OneDrive\\Desktop\\nsync\\.venv\\Lib\\site-packages\\exdir\\core\\validation.py:61: DeprecationWarning: pathlib.PurePath.is_reserved() is deprecated and scheduled for removal in Python 3.15. Use os.path.isreserved() to detect reserved paths on Windows.\n",
      "  if pathlib.PureWindowsPath(name_str).is_reserved():\n",
      "C:\\Users\\boqui\\OneDrive\\Desktop\\nsync\\.venv\\Lib\\site-packages\\exdir\\core\\validation.py:61: DeprecationWarning: pathlib.PurePath.is_reserved() is deprecated and scheduled for removal in Python 3.15. Use os.path.isreserved() to detect reserved paths on Windows.\n",
      "  if pathlib.PureWindowsPath(name_str).is_reserved():\n",
      "C:\\Users\\boqui\\OneDrive\\Desktop\\nsync\\.venv\\Lib\\site-packages\\exdir\\core\\validation.py:61: DeprecationWarning: pathlib.PurePath.is_reserved() is deprecated and scheduled for removal in Python 3.15. Use os.path.isreserved() to detect reserved paths on Windows.\n",
      "  if pathlib.PureWindowsPath(name_str).is_reserved():\n",
      "C:\\Users\\boqui\\OneDrive\\Desktop\\nsync\\.venv\\Lib\\site-packages\\exdir\\core\\validation.py:61: DeprecationWarning: pathlib.PurePath.is_reserved() is deprecated and scheduled for removal in Python 3.15. Use os.path.isreserved() to detect reserved paths on Windows.\n",
      "  if pathlib.PureWindowsPath(name_str).is_reserved():\n",
      "C:\\Users\\boqui\\OneDrive\\Desktop\\nsync\\.venv\\Lib\\site-packages\\exdir\\core\\validation.py:61: DeprecationWarning: pathlib.PurePath.is_reserved() is deprecated and scheduled for removal in Python 3.15. Use os.path.isreserved() to detect reserved paths on Windows.\n",
      "  if pathlib.PureWindowsPath(name_str).is_reserved():\n",
      "C:\\Users\\boqui\\OneDrive\\Desktop\\nsync\\.venv\\Lib\\site-packages\\exdir\\core\\validation.py:61: DeprecationWarning: pathlib.PurePath.is_reserved() is deprecated and scheduled for removal in Python 3.15. Use os.path.isreserved() to detect reserved paths on Windows.\n",
      "  if pathlib.PureWindowsPath(name_str).is_reserved():\n",
      "C:\\Users\\boqui\\OneDrive\\Desktop\\nsync\\.venv\\Lib\\site-packages\\exdir\\core\\validation.py:61: DeprecationWarning: pathlib.PurePath.is_reserved() is deprecated and scheduled for removal in Python 3.15. Use os.path.isreserved() to detect reserved paths on Windows.\n",
      "  if pathlib.PureWindowsPath(name_str).is_reserved():\n",
      "C:\\Users\\boqui\\OneDrive\\Desktop\\nsync\\.venv\\Lib\\site-packages\\exdir\\core\\validation.py:61: DeprecationWarning: pathlib.PurePath.is_reserved() is deprecated and scheduled for removal in Python 3.15. Use os.path.isreserved() to detect reserved paths on Windows.\n",
      "  if pathlib.PureWindowsPath(name_str).is_reserved():\n",
      "C:\\Users\\boqui\\OneDrive\\Desktop\\nsync\\.venv\\Lib\\site-packages\\exdir\\core\\validation.py:61: DeprecationWarning: pathlib.PurePath.is_reserved() is deprecated and scheduled for removal in Python 3.15. Use os.path.isreserved() to detect reserved paths on Windows.\n",
      "  if pathlib.PureWindowsPath(name_str).is_reserved():\n",
      "C:\\Users\\boqui\\OneDrive\\Desktop\\nsync\\.venv\\Lib\\site-packages\\exdir\\core\\validation.py:61: DeprecationWarning: pathlib.PurePath.is_reserved() is deprecated and scheduled for removal in Python 3.15. Use os.path.isreserved() to detect reserved paths on Windows.\n",
      "  if pathlib.PureWindowsPath(name_str).is_reserved():\n",
      "C:\\Users\\boqui\\OneDrive\\Desktop\\nsync\\.venv\\Lib\\site-packages\\exdir\\core\\validation.py:61: DeprecationWarning: pathlib.PurePath.is_reserved() is deprecated and scheduled for removal in Python 3.15. Use os.path.isreserved() to detect reserved paths on Windows.\n",
      "  if pathlib.PureWindowsPath(name_str).is_reserved():\n",
      "C:\\Users\\boqui\\OneDrive\\Desktop\\nsync\\.venv\\Lib\\site-packages\\exdir\\core\\validation.py:61: DeprecationWarning: pathlib.PurePath.is_reserved() is deprecated and scheduled for removal in Python 3.15. Use os.path.isreserved() to detect reserved paths on Windows.\n",
      "  if pathlib.PureWindowsPath(name_str).is_reserved():\n",
      "C:\\Users\\boqui\\OneDrive\\Desktop\\nsync\\.venv\\Lib\\site-packages\\exdir\\core\\validation.py:61: DeprecationWarning: pathlib.PurePath.is_reserved() is deprecated and scheduled for removal in Python 3.15. Use os.path.isreserved() to detect reserved paths on Windows.\n",
      "  if pathlib.PureWindowsPath(name_str).is_reserved():\n",
      "C:\\Users\\boqui\\OneDrive\\Desktop\\nsync\\.venv\\Lib\\site-packages\\exdir\\core\\validation.py:61: DeprecationWarning: pathlib.PurePath.is_reserved() is deprecated and scheduled for removal in Python 3.15. Use os.path.isreserved() to detect reserved paths on Windows.\n",
      "  if pathlib.PureWindowsPath(name_str).is_reserved():\n",
      "C:\\Users\\boqui\\OneDrive\\Desktop\\nsync\\.venv\\Lib\\site-packages\\exdir\\core\\validation.py:61: DeprecationWarning: pathlib.PurePath.is_reserved() is deprecated and scheduled for removal in Python 3.15. Use os.path.isreserved() to detect reserved paths on Windows.\n",
      "  if pathlib.PureWindowsPath(name_str).is_reserved():\n",
      "C:\\Users\\boqui\\OneDrive\\Desktop\\nsync\\.venv\\Lib\\site-packages\\exdir\\core\\validation.py:61: DeprecationWarning: pathlib.PurePath.is_reserved() is deprecated and scheduled for removal in Python 3.15. Use os.path.isreserved() to detect reserved paths on Windows.\n",
      "  if pathlib.PureWindowsPath(name_str).is_reserved():\n",
      "C:\\Users\\boqui\\OneDrive\\Desktop\\nsync\\.venv\\Lib\\site-packages\\exdir\\core\\validation.py:61: DeprecationWarning: pathlib.PurePath.is_reserved() is deprecated and scheduled for removal in Python 3.15. Use os.path.isreserved() to detect reserved paths on Windows.\n",
      "  if pathlib.PureWindowsPath(name_str).is_reserved():\n",
      "C:\\Users\\boqui\\OneDrive\\Desktop\\nsync\\.venv\\Lib\\site-packages\\exdir\\core\\validation.py:61: DeprecationWarning: pathlib.PurePath.is_reserved() is deprecated and scheduled for removal in Python 3.15. Use os.path.isreserved() to detect reserved paths on Windows.\n",
      "  if pathlib.PureWindowsPath(name_str).is_reserved():\n",
      "C:\\Users\\boqui\\OneDrive\\Desktop\\nsync\\.venv\\Lib\\site-packages\\exdir\\core\\validation.py:61: DeprecationWarning: pathlib.PurePath.is_reserved() is deprecated and scheduled for removal in Python 3.15. Use os.path.isreserved() to detect reserved paths on Windows.\n",
      "  if pathlib.PureWindowsPath(name_str).is_reserved():\n",
      "C:\\Users\\boqui\\OneDrive\\Desktop\\nsync\\.venv\\Lib\\site-packages\\exdir\\core\\validation.py:61: DeprecationWarning: pathlib.PurePath.is_reserved() is deprecated and scheduled for removal in Python 3.15. Use os.path.isreserved() to detect reserved paths on Windows.\n",
      "  if pathlib.PureWindowsPath(name_str).is_reserved():\n"
     ]
    },
    {
     "name": "stdout",
     "output_type": "stream",
     "text": [
      "Day: 0 EarlyAcq, Animals: 23, Num Neurons: 2392\n"
     ]
    },
    {
     "name": "stderr",
     "output_type": "stream",
     "text": [
      "C:\\Users\\boqui\\OneDrive\\Desktop\\nsync\\.venv\\Lib\\site-packages\\exdir\\core\\validation.py:61: DeprecationWarning: pathlib.PurePath.is_reserved() is deprecated and scheduled for removal in Python 3.15. Use os.path.isreserved() to detect reserved paths on Windows.\n",
      "  if pathlib.PureWindowsPath(name_str).is_reserved():\n",
      "C:\\Users\\boqui\\OneDrive\\Desktop\\nsync\\.venv\\Lib\\site-packages\\exdir\\core\\validation.py:61: DeprecationWarning: pathlib.PurePath.is_reserved() is deprecated and scheduled for removal in Python 3.15. Use os.path.isreserved() to detect reserved paths on Windows.\n",
      "  if pathlib.PureWindowsPath(name_str).is_reserved():\n",
      "C:\\Users\\boqui\\OneDrive\\Desktop\\nsync\\.venv\\Lib\\site-packages\\exdir\\core\\validation.py:61: DeprecationWarning: pathlib.PurePath.is_reserved() is deprecated and scheduled for removal in Python 3.15. Use os.path.isreserved() to detect reserved paths on Windows.\n",
      "  if pathlib.PureWindowsPath(name_str).is_reserved():\n",
      "C:\\Users\\boqui\\OneDrive\\Desktop\\nsync\\.venv\\Lib\\site-packages\\exdir\\core\\validation.py:61: DeprecationWarning: pathlib.PurePath.is_reserved() is deprecated and scheduled for removal in Python 3.15. Use os.path.isreserved() to detect reserved paths on Windows.\n",
      "  if pathlib.PureWindowsPath(name_str).is_reserved():\n",
      "C:\\Users\\boqui\\OneDrive\\Desktop\\nsync\\.venv\\Lib\\site-packages\\exdir\\core\\validation.py:61: DeprecationWarning: pathlib.PurePath.is_reserved() is deprecated and scheduled for removal in Python 3.15. Use os.path.isreserved() to detect reserved paths on Windows.\n",
      "  if pathlib.PureWindowsPath(name_str).is_reserved():\n",
      "C:\\Users\\boqui\\OneDrive\\Desktop\\nsync\\.venv\\Lib\\site-packages\\exdir\\core\\validation.py:61: DeprecationWarning: pathlib.PurePath.is_reserved() is deprecated and scheduled for removal in Python 3.15. Use os.path.isreserved() to detect reserved paths on Windows.\n",
      "  if pathlib.PureWindowsPath(name_str).is_reserved():\n",
      "C:\\Users\\boqui\\OneDrive\\Desktop\\nsync\\.venv\\Lib\\site-packages\\exdir\\core\\validation.py:61: DeprecationWarning: pathlib.PurePath.is_reserved() is deprecated and scheduled for removal in Python 3.15. Use os.path.isreserved() to detect reserved paths on Windows.\n",
      "  if pathlib.PureWindowsPath(name_str).is_reserved():\n",
      "C:\\Users\\boqui\\OneDrive\\Desktop\\nsync\\.venv\\Lib\\site-packages\\exdir\\core\\validation.py:61: DeprecationWarning: pathlib.PurePath.is_reserved() is deprecated and scheduled for removal in Python 3.15. Use os.path.isreserved() to detect reserved paths on Windows.\n",
      "  if pathlib.PureWindowsPath(name_str).is_reserved():\n",
      "C:\\Users\\boqui\\OneDrive\\Desktop\\nsync\\.venv\\Lib\\site-packages\\exdir\\core\\validation.py:61: DeprecationWarning: pathlib.PurePath.is_reserved() is deprecated and scheduled for removal in Python 3.15. Use os.path.isreserved() to detect reserved paths on Windows.\n",
      "  if pathlib.PureWindowsPath(name_str).is_reserved():\n",
      "C:\\Users\\boqui\\OneDrive\\Desktop\\nsync\\.venv\\Lib\\site-packages\\exdir\\core\\validation.py:61: DeprecationWarning: pathlib.PurePath.is_reserved() is deprecated and scheduled for removal in Python 3.15. Use os.path.isreserved() to detect reserved paths on Windows.\n",
      "  if pathlib.PureWindowsPath(name_str).is_reserved():\n",
      "C:\\Users\\boqui\\OneDrive\\Desktop\\nsync\\.venv\\Lib\\site-packages\\exdir\\core\\validation.py:61: DeprecationWarning: pathlib.PurePath.is_reserved() is deprecated and scheduled for removal in Python 3.15. Use os.path.isreserved() to detect reserved paths on Windows.\n",
      "  if pathlib.PureWindowsPath(name_str).is_reserved():\n",
      "C:\\Users\\boqui\\OneDrive\\Desktop\\nsync\\.venv\\Lib\\site-packages\\exdir\\core\\validation.py:61: DeprecationWarning: pathlib.PurePath.is_reserved() is deprecated and scheduled for removal in Python 3.15. Use os.path.isreserved() to detect reserved paths on Windows.\n",
      "  if pathlib.PureWindowsPath(name_str).is_reserved():\n",
      "C:\\Users\\boqui\\OneDrive\\Desktop\\nsync\\.venv\\Lib\\site-packages\\exdir\\core\\validation.py:61: DeprecationWarning: pathlib.PurePath.is_reserved() is deprecated and scheduled for removal in Python 3.15. Use os.path.isreserved() to detect reserved paths on Windows.\n",
      "  if pathlib.PureWindowsPath(name_str).is_reserved():\n",
      "C:\\Users\\boqui\\OneDrive\\Desktop\\nsync\\.venv\\Lib\\site-packages\\exdir\\core\\validation.py:61: DeprecationWarning: pathlib.PurePath.is_reserved() is deprecated and scheduled for removal in Python 3.15. Use os.path.isreserved() to detect reserved paths on Windows.\n",
      "  if pathlib.PureWindowsPath(name_str).is_reserved():\n",
      "C:\\Users\\boqui\\OneDrive\\Desktop\\nsync\\.venv\\Lib\\site-packages\\exdir\\core\\validation.py:61: DeprecationWarning: pathlib.PurePath.is_reserved() is deprecated and scheduled for removal in Python 3.15. Use os.path.isreserved() to detect reserved paths on Windows.\n",
      "  if pathlib.PureWindowsPath(name_str).is_reserved():\n",
      "C:\\Users\\boqui\\OneDrive\\Desktop\\nsync\\.venv\\Lib\\site-packages\\exdir\\core\\validation.py:61: DeprecationWarning: pathlib.PurePath.is_reserved() is deprecated and scheduled for removal in Python 3.15. Use os.path.isreserved() to detect reserved paths on Windows.\n",
      "  if pathlib.PureWindowsPath(name_str).is_reserved():\n",
      "C:\\Users\\boqui\\OneDrive\\Desktop\\nsync\\.venv\\Lib\\site-packages\\exdir\\core\\validation.py:61: DeprecationWarning: pathlib.PurePath.is_reserved() is deprecated and scheduled for removal in Python 3.15. Use os.path.isreserved() to detect reserved paths on Windows.\n",
      "  if pathlib.PureWindowsPath(name_str).is_reserved():\n",
      "C:\\Users\\boqui\\OneDrive\\Desktop\\nsync\\.venv\\Lib\\site-packages\\exdir\\core\\validation.py:61: DeprecationWarning: pathlib.PurePath.is_reserved() is deprecated and scheduled for removal in Python 3.15. Use os.path.isreserved() to detect reserved paths on Windows.\n",
      "  if pathlib.PureWindowsPath(name_str).is_reserved():\n",
      "C:\\Users\\boqui\\OneDrive\\Desktop\\nsync\\.venv\\Lib\\site-packages\\exdir\\core\\validation.py:61: DeprecationWarning: pathlib.PurePath.is_reserved() is deprecated and scheduled for removal in Python 3.15. Use os.path.isreserved() to detect reserved paths on Windows.\n",
      "  if pathlib.PureWindowsPath(name_str).is_reserved():\n",
      "C:\\Users\\boqui\\OneDrive\\Desktop\\nsync\\.venv\\Lib\\site-packages\\exdir\\core\\validation.py:61: DeprecationWarning: pathlib.PurePath.is_reserved() is deprecated and scheduled for removal in Python 3.15. Use os.path.isreserved() to detect reserved paths on Windows.\n",
      "  if pathlib.PureWindowsPath(name_str).is_reserved():\n",
      "C:\\Users\\boqui\\OneDrive\\Desktop\\nsync\\.venv\\Lib\\site-packages\\exdir\\core\\validation.py:61: DeprecationWarning: pathlib.PurePath.is_reserved() is deprecated and scheduled for removal in Python 3.15. Use os.path.isreserved() to detect reserved paths on Windows.\n",
      "  if pathlib.PureWindowsPath(name_str).is_reserved():\n",
      "C:\\Users\\boqui\\OneDrive\\Desktop\\nsync\\.venv\\Lib\\site-packages\\exdir\\core\\validation.py:61: DeprecationWarning: pathlib.PurePath.is_reserved() is deprecated and scheduled for removal in Python 3.15. Use os.path.isreserved() to detect reserved paths on Windows.\n",
      "  if pathlib.PureWindowsPath(name_str).is_reserved():\n",
      "C:\\Users\\boqui\\OneDrive\\Desktop\\nsync\\.venv\\Lib\\site-packages\\exdir\\core\\validation.py:61: DeprecationWarning: pathlib.PurePath.is_reserved() is deprecated and scheduled for removal in Python 3.15. Use os.path.isreserved() to detect reserved paths on Windows.\n",
      "  if pathlib.PureWindowsPath(name_str).is_reserved():\n",
      "C:\\Users\\boqui\\OneDrive\\Desktop\\nsync\\.venv\\Lib\\site-packages\\exdir\\core\\validation.py:61: DeprecationWarning: pathlib.PurePath.is_reserved() is deprecated and scheduled for removal in Python 3.15. Use os.path.isreserved() to detect reserved paths on Windows.\n",
      "  if pathlib.PureWindowsPath(name_str).is_reserved():\n",
      "C:\\Users\\boqui\\OneDrive\\Desktop\\nsync\\.venv\\Lib\\site-packages\\exdir\\core\\validation.py:61: DeprecationWarning: pathlib.PurePath.is_reserved() is deprecated and scheduled for removal in Python 3.15. Use os.path.isreserved() to detect reserved paths on Windows.\n",
      "  if pathlib.PureWindowsPath(name_str).is_reserved():\n",
      "C:\\Users\\boqui\\OneDrive\\Desktop\\nsync\\.venv\\Lib\\site-packages\\exdir\\core\\validation.py:61: DeprecationWarning: pathlib.PurePath.is_reserved() is deprecated and scheduled for removal in Python 3.15. Use os.path.isreserved() to detect reserved paths on Windows.\n",
      "  if pathlib.PureWindowsPath(name_str).is_reserved():\n",
      "C:\\Users\\boqui\\OneDrive\\Desktop\\nsync\\.venv\\Lib\\site-packages\\exdir\\core\\validation.py:61: DeprecationWarning: pathlib.PurePath.is_reserved() is deprecated and scheduled for removal in Python 3.15. Use os.path.isreserved() to detect reserved paths on Windows.\n",
      "  if pathlib.PureWindowsPath(name_str).is_reserved():\n",
      "C:\\Users\\boqui\\OneDrive\\Desktop\\nsync\\.venv\\Lib\\site-packages\\exdir\\core\\validation.py:61: DeprecationWarning: pathlib.PurePath.is_reserved() is deprecated and scheduled for removal in Python 3.15. Use os.path.isreserved() to detect reserved paths on Windows.\n",
      "  if pathlib.PureWindowsPath(name_str).is_reserved():\n",
      "C:\\Users\\boqui\\OneDrive\\Desktop\\nsync\\.venv\\Lib\\site-packages\\exdir\\core\\validation.py:61: DeprecationWarning: pathlib.PurePath.is_reserved() is deprecated and scheduled for removal in Python 3.15. Use os.path.isreserved() to detect reserved paths on Windows.\n",
      "  if pathlib.PureWindowsPath(name_str).is_reserved():\n",
      "C:\\Users\\boqui\\OneDrive\\Desktop\\nsync\\.venv\\Lib\\site-packages\\exdir\\core\\validation.py:61: DeprecationWarning: pathlib.PurePath.is_reserved() is deprecated and scheduled for removal in Python 3.15. Use os.path.isreserved() to detect reserved paths on Windows.\n",
      "  if pathlib.PureWindowsPath(name_str).is_reserved():\n",
      "C:\\Users\\boqui\\OneDrive\\Desktop\\nsync\\.venv\\Lib\\site-packages\\exdir\\core\\validation.py:61: DeprecationWarning: pathlib.PurePath.is_reserved() is deprecated and scheduled for removal in Python 3.15. Use os.path.isreserved() to detect reserved paths on Windows.\n",
      "  if pathlib.PureWindowsPath(name_str).is_reserved():\n",
      "C:\\Users\\boqui\\OneDrive\\Desktop\\nsync\\.venv\\Lib\\site-packages\\exdir\\core\\validation.py:61: DeprecationWarning: pathlib.PurePath.is_reserved() is deprecated and scheduled for removal in Python 3.15. Use os.path.isreserved() to detect reserved paths on Windows.\n",
      "  if pathlib.PureWindowsPath(name_str).is_reserved():\n",
      "C:\\Users\\boqui\\OneDrive\\Desktop\\nsync\\.venv\\Lib\\site-packages\\exdir\\core\\validation.py:61: DeprecationWarning: pathlib.PurePath.is_reserved() is deprecated and scheduled for removal in Python 3.15. Use os.path.isreserved() to detect reserved paths on Windows.\n",
      "  if pathlib.PureWindowsPath(name_str).is_reserved():\n",
      "C:\\Users\\boqui\\OneDrive\\Desktop\\nsync\\.venv\\Lib\\site-packages\\exdir\\core\\validation.py:61: DeprecationWarning: pathlib.PurePath.is_reserved() is deprecated and scheduled for removal in Python 3.15. Use os.path.isreserved() to detect reserved paths on Windows.\n",
      "  if pathlib.PureWindowsPath(name_str).is_reserved():\n",
      "C:\\Users\\boqui\\OneDrive\\Desktop\\nsync\\.venv\\Lib\\site-packages\\exdir\\core\\validation.py:61: DeprecationWarning: pathlib.PurePath.is_reserved() is deprecated and scheduled for removal in Python 3.15. Use os.path.isreserved() to detect reserved paths on Windows.\n",
      "  if pathlib.PureWindowsPath(name_str).is_reserved():\n",
      "C:\\Users\\boqui\\OneDrive\\Desktop\\nsync\\.venv\\Lib\\site-packages\\exdir\\core\\validation.py:61: DeprecationWarning: pathlib.PurePath.is_reserved() is deprecated and scheduled for removal in Python 3.15. Use os.path.isreserved() to detect reserved paths on Windows.\n",
      "  if pathlib.PureWindowsPath(name_str).is_reserved():\n",
      "C:\\Users\\boqui\\OneDrive\\Desktop\\nsync\\.venv\\Lib\\site-packages\\exdir\\core\\validation.py:61: DeprecationWarning: pathlib.PurePath.is_reserved() is deprecated and scheduled for removal in Python 3.15. Use os.path.isreserved() to detect reserved paths on Windows.\n",
      "  if pathlib.PureWindowsPath(name_str).is_reserved():\n",
      "C:\\Users\\boqui\\OneDrive\\Desktop\\nsync\\.venv\\Lib\\site-packages\\exdir\\core\\validation.py:61: DeprecationWarning: pathlib.PurePath.is_reserved() is deprecated and scheduled for removal in Python 3.15. Use os.path.isreserved() to detect reserved paths on Windows.\n",
      "  if pathlib.PureWindowsPath(name_str).is_reserved():\n",
      "C:\\Users\\boqui\\OneDrive\\Desktop\\nsync\\.venv\\Lib\\site-packages\\exdir\\core\\validation.py:61: DeprecationWarning: pathlib.PurePath.is_reserved() is deprecated and scheduled for removal in Python 3.15. Use os.path.isreserved() to detect reserved paths on Windows.\n",
      "  if pathlib.PureWindowsPath(name_str).is_reserved():\n",
      "C:\\Users\\boqui\\OneDrive\\Desktop\\nsync\\.venv\\Lib\\site-packages\\exdir\\core\\validation.py:61: DeprecationWarning: pathlib.PurePath.is_reserved() is deprecated and scheduled for removal in Python 3.15. Use os.path.isreserved() to detect reserved paths on Windows.\n",
      "  if pathlib.PureWindowsPath(name_str).is_reserved():\n"
     ]
    },
    {
     "name": "stdout",
     "output_type": "stream",
     "text": [
      "Day: 1 MidAcq, Animals: 23, Num Neurons: 2592\n"
     ]
    },
    {
     "name": "stderr",
     "output_type": "stream",
     "text": [
      "C:\\Users\\boqui\\OneDrive\\Desktop\\nsync\\.venv\\Lib\\site-packages\\exdir\\core\\validation.py:61: DeprecationWarning: pathlib.PurePath.is_reserved() is deprecated and scheduled for removal in Python 3.15. Use os.path.isreserved() to detect reserved paths on Windows.\n",
      "  if pathlib.PureWindowsPath(name_str).is_reserved():\n",
      "C:\\Users\\boqui\\OneDrive\\Desktop\\nsync\\.venv\\Lib\\site-packages\\exdir\\core\\validation.py:61: DeprecationWarning: pathlib.PurePath.is_reserved() is deprecated and scheduled for removal in Python 3.15. Use os.path.isreserved() to detect reserved paths on Windows.\n",
      "  if pathlib.PureWindowsPath(name_str).is_reserved():\n",
      "C:\\Users\\boqui\\OneDrive\\Desktop\\nsync\\.venv\\Lib\\site-packages\\exdir\\core\\validation.py:61: DeprecationWarning: pathlib.PurePath.is_reserved() is deprecated and scheduled for removal in Python 3.15. Use os.path.isreserved() to detect reserved paths on Windows.\n",
      "  if pathlib.PureWindowsPath(name_str).is_reserved():\n",
      "C:\\Users\\boqui\\OneDrive\\Desktop\\nsync\\.venv\\Lib\\site-packages\\exdir\\core\\validation.py:61: DeprecationWarning: pathlib.PurePath.is_reserved() is deprecated and scheduled for removal in Python 3.15. Use os.path.isreserved() to detect reserved paths on Windows.\n",
      "  if pathlib.PureWindowsPath(name_str).is_reserved():\n",
      "C:\\Users\\boqui\\OneDrive\\Desktop\\nsync\\.venv\\Lib\\site-packages\\exdir\\core\\validation.py:61: DeprecationWarning: pathlib.PurePath.is_reserved() is deprecated and scheduled for removal in Python 3.15. Use os.path.isreserved() to detect reserved paths on Windows.\n",
      "  if pathlib.PureWindowsPath(name_str).is_reserved():\n",
      "C:\\Users\\boqui\\OneDrive\\Desktop\\nsync\\.venv\\Lib\\site-packages\\exdir\\core\\validation.py:61: DeprecationWarning: pathlib.PurePath.is_reserved() is deprecated and scheduled for removal in Python 3.15. Use os.path.isreserved() to detect reserved paths on Windows.\n",
      "  if pathlib.PureWindowsPath(name_str).is_reserved():\n",
      "C:\\Users\\boqui\\OneDrive\\Desktop\\nsync\\.venv\\Lib\\site-packages\\exdir\\core\\validation.py:61: DeprecationWarning: pathlib.PurePath.is_reserved() is deprecated and scheduled for removal in Python 3.15. Use os.path.isreserved() to detect reserved paths on Windows.\n",
      "  if pathlib.PureWindowsPath(name_str).is_reserved():\n",
      "C:\\Users\\boqui\\OneDrive\\Desktop\\nsync\\.venv\\Lib\\site-packages\\exdir\\core\\validation.py:61: DeprecationWarning: pathlib.PurePath.is_reserved() is deprecated and scheduled for removal in Python 3.15. Use os.path.isreserved() to detect reserved paths on Windows.\n",
      "  if pathlib.PureWindowsPath(name_str).is_reserved():\n",
      "C:\\Users\\boqui\\OneDrive\\Desktop\\nsync\\.venv\\Lib\\site-packages\\exdir\\core\\validation.py:61: DeprecationWarning: pathlib.PurePath.is_reserved() is deprecated and scheduled for removal in Python 3.15. Use os.path.isreserved() to detect reserved paths on Windows.\n",
      "  if pathlib.PureWindowsPath(name_str).is_reserved():\n",
      "C:\\Users\\boqui\\OneDrive\\Desktop\\nsync\\.venv\\Lib\\site-packages\\exdir\\core\\validation.py:61: DeprecationWarning: pathlib.PurePath.is_reserved() is deprecated and scheduled for removal in Python 3.15. Use os.path.isreserved() to detect reserved paths on Windows.\n",
      "  if pathlib.PureWindowsPath(name_str).is_reserved():\n",
      "C:\\Users\\boqui\\OneDrive\\Desktop\\nsync\\.venv\\Lib\\site-packages\\exdir\\core\\validation.py:61: DeprecationWarning: pathlib.PurePath.is_reserved() is deprecated and scheduled for removal in Python 3.15. Use os.path.isreserved() to detect reserved paths on Windows.\n",
      "  if pathlib.PureWindowsPath(name_str).is_reserved():\n",
      "C:\\Users\\boqui\\OneDrive\\Desktop\\nsync\\.venv\\Lib\\site-packages\\exdir\\core\\validation.py:61: DeprecationWarning: pathlib.PurePath.is_reserved() is deprecated and scheduled for removal in Python 3.15. Use os.path.isreserved() to detect reserved paths on Windows.\n",
      "  if pathlib.PureWindowsPath(name_str).is_reserved():\n",
      "C:\\Users\\boqui\\OneDrive\\Desktop\\nsync\\.venv\\Lib\\site-packages\\exdir\\core\\validation.py:61: DeprecationWarning: pathlib.PurePath.is_reserved() is deprecated and scheduled for removal in Python 3.15. Use os.path.isreserved() to detect reserved paths on Windows.\n",
      "  if pathlib.PureWindowsPath(name_str).is_reserved():\n",
      "C:\\Users\\boqui\\OneDrive\\Desktop\\nsync\\.venv\\Lib\\site-packages\\exdir\\core\\validation.py:61: DeprecationWarning: pathlib.PurePath.is_reserved() is deprecated and scheduled for removal in Python 3.15. Use os.path.isreserved() to detect reserved paths on Windows.\n",
      "  if pathlib.PureWindowsPath(name_str).is_reserved():\n",
      "C:\\Users\\boqui\\OneDrive\\Desktop\\nsync\\.venv\\Lib\\site-packages\\exdir\\core\\validation.py:61: DeprecationWarning: pathlib.PurePath.is_reserved() is deprecated and scheduled for removal in Python 3.15. Use os.path.isreserved() to detect reserved paths on Windows.\n",
      "  if pathlib.PureWindowsPath(name_str).is_reserved():\n",
      "C:\\Users\\boqui\\OneDrive\\Desktop\\nsync\\.venv\\Lib\\site-packages\\exdir\\core\\validation.py:61: DeprecationWarning: pathlib.PurePath.is_reserved() is deprecated and scheduled for removal in Python 3.15. Use os.path.isreserved() to detect reserved paths on Windows.\n",
      "  if pathlib.PureWindowsPath(name_str).is_reserved():\n",
      "C:\\Users\\boqui\\OneDrive\\Desktop\\nsync\\.venv\\Lib\\site-packages\\exdir\\core\\validation.py:61: DeprecationWarning: pathlib.PurePath.is_reserved() is deprecated and scheduled for removal in Python 3.15. Use os.path.isreserved() to detect reserved paths on Windows.\n",
      "  if pathlib.PureWindowsPath(name_str).is_reserved():\n",
      "C:\\Users\\boqui\\OneDrive\\Desktop\\nsync\\.venv\\Lib\\site-packages\\exdir\\core\\validation.py:61: DeprecationWarning: pathlib.PurePath.is_reserved() is deprecated and scheduled for removal in Python 3.15. Use os.path.isreserved() to detect reserved paths on Windows.\n",
      "  if pathlib.PureWindowsPath(name_str).is_reserved():\n",
      "C:\\Users\\boqui\\OneDrive\\Desktop\\nsync\\.venv\\Lib\\site-packages\\exdir\\core\\validation.py:61: DeprecationWarning: pathlib.PurePath.is_reserved() is deprecated and scheduled for removal in Python 3.15. Use os.path.isreserved() to detect reserved paths on Windows.\n",
      "  if pathlib.PureWindowsPath(name_str).is_reserved():\n",
      "C:\\Users\\boqui\\OneDrive\\Desktop\\nsync\\.venv\\Lib\\site-packages\\exdir\\core\\validation.py:61: DeprecationWarning: pathlib.PurePath.is_reserved() is deprecated and scheduled for removal in Python 3.15. Use os.path.isreserved() to detect reserved paths on Windows.\n",
      "  if pathlib.PureWindowsPath(name_str).is_reserved():\n",
      "C:\\Users\\boqui\\OneDrive\\Desktop\\nsync\\.venv\\Lib\\site-packages\\exdir\\core\\validation.py:61: DeprecationWarning: pathlib.PurePath.is_reserved() is deprecated and scheduled for removal in Python 3.15. Use os.path.isreserved() to detect reserved paths on Windows.\n",
      "  if pathlib.PureWindowsPath(name_str).is_reserved():\n",
      "C:\\Users\\boqui\\OneDrive\\Desktop\\nsync\\.venv\\Lib\\site-packages\\exdir\\core\\validation.py:61: DeprecationWarning: pathlib.PurePath.is_reserved() is deprecated and scheduled for removal in Python 3.15. Use os.path.isreserved() to detect reserved paths on Windows.\n",
      "  if pathlib.PureWindowsPath(name_str).is_reserved():\n",
      "C:\\Users\\boqui\\OneDrive\\Desktop\\nsync\\.venv\\Lib\\site-packages\\exdir\\core\\validation.py:61: DeprecationWarning: pathlib.PurePath.is_reserved() is deprecated and scheduled for removal in Python 3.15. Use os.path.isreserved() to detect reserved paths on Windows.\n",
      "  if pathlib.PureWindowsPath(name_str).is_reserved():\n",
      "C:\\Users\\boqui\\OneDrive\\Desktop\\nsync\\.venv\\Lib\\site-packages\\exdir\\core\\validation.py:61: DeprecationWarning: pathlib.PurePath.is_reserved() is deprecated and scheduled for removal in Python 3.15. Use os.path.isreserved() to detect reserved paths on Windows.\n",
      "  if pathlib.PureWindowsPath(name_str).is_reserved():\n",
      "C:\\Users\\boqui\\OneDrive\\Desktop\\nsync\\.venv\\Lib\\site-packages\\exdir\\core\\validation.py:61: DeprecationWarning: pathlib.PurePath.is_reserved() is deprecated and scheduled for removal in Python 3.15. Use os.path.isreserved() to detect reserved paths on Windows.\n",
      "  if pathlib.PureWindowsPath(name_str).is_reserved():\n",
      "C:\\Users\\boqui\\OneDrive\\Desktop\\nsync\\.venv\\Lib\\site-packages\\exdir\\core\\validation.py:61: DeprecationWarning: pathlib.PurePath.is_reserved() is deprecated and scheduled for removal in Python 3.15. Use os.path.isreserved() to detect reserved paths on Windows.\n",
      "  if pathlib.PureWindowsPath(name_str).is_reserved():\n",
      "C:\\Users\\boqui\\OneDrive\\Desktop\\nsync\\.venv\\Lib\\site-packages\\exdir\\core\\validation.py:61: DeprecationWarning: pathlib.PurePath.is_reserved() is deprecated and scheduled for removal in Python 3.15. Use os.path.isreserved() to detect reserved paths on Windows.\n",
      "  if pathlib.PureWindowsPath(name_str).is_reserved():\n",
      "C:\\Users\\boqui\\OneDrive\\Desktop\\nsync\\.venv\\Lib\\site-packages\\exdir\\core\\validation.py:61: DeprecationWarning: pathlib.PurePath.is_reserved() is deprecated and scheduled for removal in Python 3.15. Use os.path.isreserved() to detect reserved paths on Windows.\n",
      "  if pathlib.PureWindowsPath(name_str).is_reserved():\n",
      "C:\\Users\\boqui\\OneDrive\\Desktop\\nsync\\.venv\\Lib\\site-packages\\exdir\\core\\validation.py:61: DeprecationWarning: pathlib.PurePath.is_reserved() is deprecated and scheduled for removal in Python 3.15. Use os.path.isreserved() to detect reserved paths on Windows.\n",
      "  if pathlib.PureWindowsPath(name_str).is_reserved():\n",
      "C:\\Users\\boqui\\OneDrive\\Desktop\\nsync\\.venv\\Lib\\site-packages\\exdir\\core\\validation.py:61: DeprecationWarning: pathlib.PurePath.is_reserved() is deprecated and scheduled for removal in Python 3.15. Use os.path.isreserved() to detect reserved paths on Windows.\n",
      "  if pathlib.PureWindowsPath(name_str).is_reserved():\n",
      "C:\\Users\\boqui\\OneDrive\\Desktop\\nsync\\.venv\\Lib\\site-packages\\exdir\\core\\validation.py:61: DeprecationWarning: pathlib.PurePath.is_reserved() is deprecated and scheduled for removal in Python 3.15. Use os.path.isreserved() to detect reserved paths on Windows.\n",
      "  if pathlib.PureWindowsPath(name_str).is_reserved():\n",
      "C:\\Users\\boqui\\OneDrive\\Desktop\\nsync\\.venv\\Lib\\site-packages\\exdir\\core\\validation.py:61: DeprecationWarning: pathlib.PurePath.is_reserved() is deprecated and scheduled for removal in Python 3.15. Use os.path.isreserved() to detect reserved paths on Windows.\n",
      "  if pathlib.PureWindowsPath(name_str).is_reserved():\n"
     ]
    },
    {
     "name": "stdout",
     "output_type": "stream",
     "text": [
      "Day: 2 LateAcq, Animals: 23, Num Neurons: 2237\n"
     ]
    },
    {
     "name": "stderr",
     "output_type": "stream",
     "text": [
      "C:\\Users\\boqui\\OneDrive\\Desktop\\nsync\\.venv\\Lib\\site-packages\\exdir\\core\\validation.py:61: DeprecationWarning: pathlib.PurePath.is_reserved() is deprecated and scheduled for removal in Python 3.15. Use os.path.isreserved() to detect reserved paths on Windows.\n",
      "  if pathlib.PureWindowsPath(name_str).is_reserved():\n",
      "C:\\Users\\boqui\\OneDrive\\Desktop\\nsync\\.venv\\Lib\\site-packages\\exdir\\core\\validation.py:61: DeprecationWarning: pathlib.PurePath.is_reserved() is deprecated and scheduled for removal in Python 3.15. Use os.path.isreserved() to detect reserved paths on Windows.\n",
      "  if pathlib.PureWindowsPath(name_str).is_reserved():\n",
      "C:\\Users\\boqui\\OneDrive\\Desktop\\nsync\\.venv\\Lib\\site-packages\\exdir\\core\\validation.py:61: DeprecationWarning: pathlib.PurePath.is_reserved() is deprecated and scheduled for removal in Python 3.15. Use os.path.isreserved() to detect reserved paths on Windows.\n",
      "  if pathlib.PureWindowsPath(name_str).is_reserved():\n",
      "C:\\Users\\boqui\\OneDrive\\Desktop\\nsync\\.venv\\Lib\\site-packages\\exdir\\core\\validation.py:61: DeprecationWarning: pathlib.PurePath.is_reserved() is deprecated and scheduled for removal in Python 3.15. Use os.path.isreserved() to detect reserved paths on Windows.\n",
      "  if pathlib.PureWindowsPath(name_str).is_reserved():\n",
      "C:\\Users\\boqui\\OneDrive\\Desktop\\nsync\\.venv\\Lib\\site-packages\\exdir\\core\\validation.py:61: DeprecationWarning: pathlib.PurePath.is_reserved() is deprecated and scheduled for removal in Python 3.15. Use os.path.isreserved() to detect reserved paths on Windows.\n",
      "  if pathlib.PureWindowsPath(name_str).is_reserved():\n",
      "C:\\Users\\boqui\\OneDrive\\Desktop\\nsync\\.venv\\Lib\\site-packages\\exdir\\core\\validation.py:61: DeprecationWarning: pathlib.PurePath.is_reserved() is deprecated and scheduled for removal in Python 3.15. Use os.path.isreserved() to detect reserved paths on Windows.\n",
      "  if pathlib.PureWindowsPath(name_str).is_reserved():\n"
     ]
    },
    {
     "name": "stdout",
     "output_type": "stream",
     "text": [
      "Insufficient target events found.\n",
      "Insufficient target events found.\n"
     ]
    },
    {
     "name": "stderr",
     "output_type": "stream",
     "text": [
      "C:\\Users\\boqui\\OneDrive\\Desktop\\nsync\\.venv\\Lib\\site-packages\\exdir\\core\\validation.py:61: DeprecationWarning: pathlib.PurePath.is_reserved() is deprecated and scheduled for removal in Python 3.15. Use os.path.isreserved() to detect reserved paths on Windows.\n",
      "  if pathlib.PureWindowsPath(name_str).is_reserved():\n",
      "C:\\Users\\boqui\\OneDrive\\Desktop\\nsync\\.venv\\Lib\\site-packages\\exdir\\core\\validation.py:61: DeprecationWarning: pathlib.PurePath.is_reserved() is deprecated and scheduled for removal in Python 3.15. Use os.path.isreserved() to detect reserved paths on Windows.\n",
      "  if pathlib.PureWindowsPath(name_str).is_reserved():\n",
      "C:\\Users\\boqui\\OneDrive\\Desktop\\nsync\\.venv\\Lib\\site-packages\\exdir\\core\\validation.py:61: DeprecationWarning: pathlib.PurePath.is_reserved() is deprecated and scheduled for removal in Python 3.15. Use os.path.isreserved() to detect reserved paths on Windows.\n",
      "  if pathlib.PureWindowsPath(name_str).is_reserved():\n",
      "C:\\Users\\boqui\\OneDrive\\Desktop\\nsync\\.venv\\Lib\\site-packages\\exdir\\core\\validation.py:61: DeprecationWarning: pathlib.PurePath.is_reserved() is deprecated and scheduled for removal in Python 3.15. Use os.path.isreserved() to detect reserved paths on Windows.\n",
      "  if pathlib.PureWindowsPath(name_str).is_reserved():\n",
      "C:\\Users\\boqui\\OneDrive\\Desktop\\nsync\\.venv\\Lib\\site-packages\\exdir\\core\\validation.py:61: DeprecationWarning: pathlib.PurePath.is_reserved() is deprecated and scheduled for removal in Python 3.15. Use os.path.isreserved() to detect reserved paths on Windows.\n",
      "  if pathlib.PureWindowsPath(name_str).is_reserved():\n",
      "C:\\Users\\boqui\\OneDrive\\Desktop\\nsync\\.venv\\Lib\\site-packages\\exdir\\core\\validation.py:61: DeprecationWarning: pathlib.PurePath.is_reserved() is deprecated and scheduled for removal in Python 3.15. Use os.path.isreserved() to detect reserved paths on Windows.\n",
      "  if pathlib.PureWindowsPath(name_str).is_reserved():\n",
      "C:\\Users\\boqui\\OneDrive\\Desktop\\nsync\\.venv\\Lib\\site-packages\\exdir\\core\\validation.py:61: DeprecationWarning: pathlib.PurePath.is_reserved() is deprecated and scheduled for removal in Python 3.15. Use os.path.isreserved() to detect reserved paths on Windows.\n",
      "  if pathlib.PureWindowsPath(name_str).is_reserved():\n",
      "C:\\Users\\boqui\\OneDrive\\Desktop\\nsync\\.venv\\Lib\\site-packages\\exdir\\core\\validation.py:61: DeprecationWarning: pathlib.PurePath.is_reserved() is deprecated and scheduled for removal in Python 3.15. Use os.path.isreserved() to detect reserved paths on Windows.\n",
      "  if pathlib.PureWindowsPath(name_str).is_reserved():\n",
      "C:\\Users\\boqui\\OneDrive\\Desktop\\nsync\\.venv\\Lib\\site-packages\\exdir\\core\\validation.py:61: DeprecationWarning: pathlib.PurePath.is_reserved() is deprecated and scheduled for removal in Python 3.15. Use os.path.isreserved() to detect reserved paths on Windows.\n",
      "  if pathlib.PureWindowsPath(name_str).is_reserved():\n",
      "C:\\Users\\boqui\\OneDrive\\Desktop\\nsync\\.venv\\Lib\\site-packages\\exdir\\core\\validation.py:61: DeprecationWarning: pathlib.PurePath.is_reserved() is deprecated and scheduled for removal in Python 3.15. Use os.path.isreserved() to detect reserved paths on Windows.\n",
      "  if pathlib.PureWindowsPath(name_str).is_reserved():\n",
      "C:\\Users\\boqui\\OneDrive\\Desktop\\nsync\\.venv\\Lib\\site-packages\\exdir\\core\\validation.py:61: DeprecationWarning: pathlib.PurePath.is_reserved() is deprecated and scheduled for removal in Python 3.15. Use os.path.isreserved() to detect reserved paths on Windows.\n",
      "  if pathlib.PureWindowsPath(name_str).is_reserved():\n",
      "C:\\Users\\boqui\\OneDrive\\Desktop\\nsync\\.venv\\Lib\\site-packages\\exdir\\core\\validation.py:61: DeprecationWarning: pathlib.PurePath.is_reserved() is deprecated and scheduled for removal in Python 3.15. Use os.path.isreserved() to detect reserved paths on Windows.\n",
      "  if pathlib.PureWindowsPath(name_str).is_reserved():\n",
      "C:\\Users\\boqui\\OneDrive\\Desktop\\nsync\\.venv\\Lib\\site-packages\\exdir\\core\\validation.py:61: DeprecationWarning: pathlib.PurePath.is_reserved() is deprecated and scheduled for removal in Python 3.15. Use os.path.isreserved() to detect reserved paths on Windows.\n",
      "  if pathlib.PureWindowsPath(name_str).is_reserved():\n",
      "C:\\Users\\boqui\\OneDrive\\Desktop\\nsync\\.venv\\Lib\\site-packages\\exdir\\core\\validation.py:61: DeprecationWarning: pathlib.PurePath.is_reserved() is deprecated and scheduled for removal in Python 3.15. Use os.path.isreserved() to detect reserved paths on Windows.\n",
      "  if pathlib.PureWindowsPath(name_str).is_reserved():\n"
     ]
    },
    {
     "name": "stdout",
     "output_type": "stream",
     "text": [
      "Insufficient target events found.\n",
      "Insufficient target events found.\n"
     ]
    },
    {
     "name": "stderr",
     "output_type": "stream",
     "text": [
      "C:\\Users\\boqui\\OneDrive\\Desktop\\nsync\\.venv\\Lib\\site-packages\\exdir\\core\\validation.py:61: DeprecationWarning: pathlib.PurePath.is_reserved() is deprecated and scheduled for removal in Python 3.15. Use os.path.isreserved() to detect reserved paths on Windows.\n",
      "  if pathlib.PureWindowsPath(name_str).is_reserved():\n",
      "C:\\Users\\boqui\\OneDrive\\Desktop\\nsync\\.venv\\Lib\\site-packages\\exdir\\core\\validation.py:61: DeprecationWarning: pathlib.PurePath.is_reserved() is deprecated and scheduled for removal in Python 3.15. Use os.path.isreserved() to detect reserved paths on Windows.\n",
      "  if pathlib.PureWindowsPath(name_str).is_reserved():\n",
      "C:\\Users\\boqui\\OneDrive\\Desktop\\nsync\\.venv\\Lib\\site-packages\\exdir\\core\\validation.py:61: DeprecationWarning: pathlib.PurePath.is_reserved() is deprecated and scheduled for removal in Python 3.15. Use os.path.isreserved() to detect reserved paths on Windows.\n",
      "  if pathlib.PureWindowsPath(name_str).is_reserved():\n",
      "C:\\Users\\boqui\\OneDrive\\Desktop\\nsync\\.venv\\Lib\\site-packages\\exdir\\core\\validation.py:61: DeprecationWarning: pathlib.PurePath.is_reserved() is deprecated and scheduled for removal in Python 3.15. Use os.path.isreserved() to detect reserved paths on Windows.\n",
      "  if pathlib.PureWindowsPath(name_str).is_reserved():\n",
      "C:\\Users\\boqui\\OneDrive\\Desktop\\nsync\\.venv\\Lib\\site-packages\\exdir\\core\\validation.py:61: DeprecationWarning: pathlib.PurePath.is_reserved() is deprecated and scheduled for removal in Python 3.15. Use os.path.isreserved() to detect reserved paths on Windows.\n",
      "  if pathlib.PureWindowsPath(name_str).is_reserved():\n",
      "C:\\Users\\boqui\\OneDrive\\Desktop\\nsync\\.venv\\Lib\\site-packages\\exdir\\core\\validation.py:61: DeprecationWarning: pathlib.PurePath.is_reserved() is deprecated and scheduled for removal in Python 3.15. Use os.path.isreserved() to detect reserved paths on Windows.\n",
      "  if pathlib.PureWindowsPath(name_str).is_reserved():\n",
      "C:\\Users\\boqui\\OneDrive\\Desktop\\nsync\\.venv\\Lib\\site-packages\\exdir\\core\\validation.py:61: DeprecationWarning: pathlib.PurePath.is_reserved() is deprecated and scheduled for removal in Python 3.15. Use os.path.isreserved() to detect reserved paths on Windows.\n",
      "  if pathlib.PureWindowsPath(name_str).is_reserved():\n",
      "C:\\Users\\boqui\\OneDrive\\Desktop\\nsync\\.venv\\Lib\\site-packages\\exdir\\core\\validation.py:61: DeprecationWarning: pathlib.PurePath.is_reserved() is deprecated and scheduled for removal in Python 3.15. Use os.path.isreserved() to detect reserved paths on Windows.\n",
      "  if pathlib.PureWindowsPath(name_str).is_reserved():\n",
      "C:\\Users\\boqui\\OneDrive\\Desktop\\nsync\\.venv\\Lib\\site-packages\\exdir\\core\\validation.py:61: DeprecationWarning: pathlib.PurePath.is_reserved() is deprecated and scheduled for removal in Python 3.15. Use os.path.isreserved() to detect reserved paths on Windows.\n",
      "  if pathlib.PureWindowsPath(name_str).is_reserved():\n",
      "C:\\Users\\boqui\\OneDrive\\Desktop\\nsync\\.venv\\Lib\\site-packages\\exdir\\core\\validation.py:61: DeprecationWarning: pathlib.PurePath.is_reserved() is deprecated and scheduled for removal in Python 3.15. Use os.path.isreserved() to detect reserved paths on Windows.\n",
      "  if pathlib.PureWindowsPath(name_str).is_reserved():\n",
      "C:\\Users\\boqui\\OneDrive\\Desktop\\nsync\\.venv\\Lib\\site-packages\\exdir\\core\\validation.py:61: DeprecationWarning: pathlib.PurePath.is_reserved() is deprecated and scheduled for removal in Python 3.15. Use os.path.isreserved() to detect reserved paths on Windows.\n",
      "  if pathlib.PureWindowsPath(name_str).is_reserved():\n",
      "C:\\Users\\boqui\\OneDrive\\Desktop\\nsync\\.venv\\Lib\\site-packages\\exdir\\core\\validation.py:61: DeprecationWarning: pathlib.PurePath.is_reserved() is deprecated and scheduled for removal in Python 3.15. Use os.path.isreserved() to detect reserved paths on Windows.\n",
      "  if pathlib.PureWindowsPath(name_str).is_reserved():\n",
      "C:\\Users\\boqui\\OneDrive\\Desktop\\nsync\\.venv\\Lib\\site-packages\\exdir\\core\\validation.py:61: DeprecationWarning: pathlib.PurePath.is_reserved() is deprecated and scheduled for removal in Python 3.15. Use os.path.isreserved() to detect reserved paths on Windows.\n",
      "  if pathlib.PureWindowsPath(name_str).is_reserved():\n",
      "C:\\Users\\boqui\\OneDrive\\Desktop\\nsync\\.venv\\Lib\\site-packages\\exdir\\core\\validation.py:61: DeprecationWarning: pathlib.PurePath.is_reserved() is deprecated and scheduled for removal in Python 3.15. Use os.path.isreserved() to detect reserved paths on Windows.\n",
      "  if pathlib.PureWindowsPath(name_str).is_reserved():\n",
      "C:\\Users\\boqui\\OneDrive\\Desktop\\nsync\\.venv\\Lib\\site-packages\\exdir\\core\\validation.py:61: DeprecationWarning: pathlib.PurePath.is_reserved() is deprecated and scheduled for removal in Python 3.15. Use os.path.isreserved() to detect reserved paths on Windows.\n",
      "  if pathlib.PureWindowsPath(name_str).is_reserved():\n",
      "C:\\Users\\boqui\\OneDrive\\Desktop\\nsync\\.venv\\Lib\\site-packages\\exdir\\core\\validation.py:61: DeprecationWarning: pathlib.PurePath.is_reserved() is deprecated and scheduled for removal in Python 3.15. Use os.path.isreserved() to detect reserved paths on Windows.\n",
      "  if pathlib.PureWindowsPath(name_str).is_reserved():\n"
     ]
    },
    {
     "name": "stdout",
     "output_type": "stream",
     "text": [
      "Day: 3 EarlyExt, Animals: 23, Num Neurons: 2284\n",
      "Insufficient target events found.\n",
      "Insufficient target events found.\n"
     ]
    },
    {
     "name": "stderr",
     "output_type": "stream",
     "text": [
      "C:\\Users\\boqui\\OneDrive\\Desktop\\nsync\\.venv\\Lib\\site-packages\\exdir\\core\\validation.py:61: DeprecationWarning: pathlib.PurePath.is_reserved() is deprecated and scheduled for removal in Python 3.15. Use os.path.isreserved() to detect reserved paths on Windows.\n",
      "  if pathlib.PureWindowsPath(name_str).is_reserved():\n",
      "C:\\Users\\boqui\\OneDrive\\Desktop\\nsync\\.venv\\Lib\\site-packages\\exdir\\core\\validation.py:61: DeprecationWarning: pathlib.PurePath.is_reserved() is deprecated and scheduled for removal in Python 3.15. Use os.path.isreserved() to detect reserved paths on Windows.\n",
      "  if pathlib.PureWindowsPath(name_str).is_reserved():\n",
      "C:\\Users\\boqui\\OneDrive\\Desktop\\nsync\\.venv\\Lib\\site-packages\\exdir\\core\\validation.py:61: DeprecationWarning: pathlib.PurePath.is_reserved() is deprecated and scheduled for removal in Python 3.15. Use os.path.isreserved() to detect reserved paths on Windows.\n",
      "  if pathlib.PureWindowsPath(name_str).is_reserved():\n",
      "C:\\Users\\boqui\\OneDrive\\Desktop\\nsync\\.venv\\Lib\\site-packages\\exdir\\core\\validation.py:61: DeprecationWarning: pathlib.PurePath.is_reserved() is deprecated and scheduled for removal in Python 3.15. Use os.path.isreserved() to detect reserved paths on Windows.\n",
      "  if pathlib.PureWindowsPath(name_str).is_reserved():\n",
      "C:\\Users\\boqui\\OneDrive\\Desktop\\nsync\\.venv\\Lib\\site-packages\\exdir\\core\\validation.py:61: DeprecationWarning: pathlib.PurePath.is_reserved() is deprecated and scheduled for removal in Python 3.15. Use os.path.isreserved() to detect reserved paths on Windows.\n",
      "  if pathlib.PureWindowsPath(name_str).is_reserved():\n",
      "C:\\Users\\boqui\\OneDrive\\Desktop\\nsync\\.venv\\Lib\\site-packages\\exdir\\core\\validation.py:61: DeprecationWarning: pathlib.PurePath.is_reserved() is deprecated and scheduled for removal in Python 3.15. Use os.path.isreserved() to detect reserved paths on Windows.\n",
      "  if pathlib.PureWindowsPath(name_str).is_reserved():\n",
      "C:\\Users\\boqui\\OneDrive\\Desktop\\nsync\\.venv\\Lib\\site-packages\\exdir\\core\\validation.py:61: DeprecationWarning: pathlib.PurePath.is_reserved() is deprecated and scheduled for removal in Python 3.15. Use os.path.isreserved() to detect reserved paths on Windows.\n",
      "  if pathlib.PureWindowsPath(name_str).is_reserved():\n",
      "C:\\Users\\boqui\\OneDrive\\Desktop\\nsync\\.venv\\Lib\\site-packages\\exdir\\core\\validation.py:61: DeprecationWarning: pathlib.PurePath.is_reserved() is deprecated and scheduled for removal in Python 3.15. Use os.path.isreserved() to detect reserved paths on Windows.\n",
      "  if pathlib.PureWindowsPath(name_str).is_reserved():\n"
     ]
    },
    {
     "name": "stdout",
     "output_type": "stream",
     "text": [
      "Insufficient target events found.\n",
      "Insufficient target events found.\n",
      "Insufficient target events found.\n",
      "Insufficient target events found.\n",
      "Insufficient target events found.\n"
     ]
    },
    {
     "name": "stderr",
     "output_type": "stream",
     "text": [
      "C:\\Users\\boqui\\OneDrive\\Desktop\\nsync\\.venv\\Lib\\site-packages\\exdir\\core\\validation.py:61: DeprecationWarning: pathlib.PurePath.is_reserved() is deprecated and scheduled for removal in Python 3.15. Use os.path.isreserved() to detect reserved paths on Windows.\n",
      "  if pathlib.PureWindowsPath(name_str).is_reserved():\n",
      "C:\\Users\\boqui\\OneDrive\\Desktop\\nsync\\.venv\\Lib\\site-packages\\exdir\\core\\validation.py:61: DeprecationWarning: pathlib.PurePath.is_reserved() is deprecated and scheduled for removal in Python 3.15. Use os.path.isreserved() to detect reserved paths on Windows.\n",
      "  if pathlib.PureWindowsPath(name_str).is_reserved():\n",
      "C:\\Users\\boqui\\OneDrive\\Desktop\\nsync\\.venv\\Lib\\site-packages\\exdir\\core\\validation.py:61: DeprecationWarning: pathlib.PurePath.is_reserved() is deprecated and scheduled for removal in Python 3.15. Use os.path.isreserved() to detect reserved paths on Windows.\n",
      "  if pathlib.PureWindowsPath(name_str).is_reserved():\n",
      "C:\\Users\\boqui\\OneDrive\\Desktop\\nsync\\.venv\\Lib\\site-packages\\exdir\\core\\validation.py:61: DeprecationWarning: pathlib.PurePath.is_reserved() is deprecated and scheduled for removal in Python 3.15. Use os.path.isreserved() to detect reserved paths on Windows.\n",
      "  if pathlib.PureWindowsPath(name_str).is_reserved():\n",
      "C:\\Users\\boqui\\OneDrive\\Desktop\\nsync\\.venv\\Lib\\site-packages\\exdir\\core\\validation.py:61: DeprecationWarning: pathlib.PurePath.is_reserved() is deprecated and scheduled for removal in Python 3.15. Use os.path.isreserved() to detect reserved paths on Windows.\n",
      "  if pathlib.PureWindowsPath(name_str).is_reserved():\n",
      "C:\\Users\\boqui\\OneDrive\\Desktop\\nsync\\.venv\\Lib\\site-packages\\exdir\\core\\validation.py:61: DeprecationWarning: pathlib.PurePath.is_reserved() is deprecated and scheduled for removal in Python 3.15. Use os.path.isreserved() to detect reserved paths on Windows.\n",
      "  if pathlib.PureWindowsPath(name_str).is_reserved():\n",
      "C:\\Users\\boqui\\OneDrive\\Desktop\\nsync\\.venv\\Lib\\site-packages\\exdir\\core\\validation.py:61: DeprecationWarning: pathlib.PurePath.is_reserved() is deprecated and scheduled for removal in Python 3.15. Use os.path.isreserved() to detect reserved paths on Windows.\n",
      "  if pathlib.PureWindowsPath(name_str).is_reserved():\n",
      "C:\\Users\\boqui\\OneDrive\\Desktop\\nsync\\.venv\\Lib\\site-packages\\exdir\\core\\validation.py:61: DeprecationWarning: pathlib.PurePath.is_reserved() is deprecated and scheduled for removal in Python 3.15. Use os.path.isreserved() to detect reserved paths on Windows.\n",
      "  if pathlib.PureWindowsPath(name_str).is_reserved():\n",
      "C:\\Users\\boqui\\OneDrive\\Desktop\\nsync\\.venv\\Lib\\site-packages\\exdir\\core\\validation.py:61: DeprecationWarning: pathlib.PurePath.is_reserved() is deprecated and scheduled for removal in Python 3.15. Use os.path.isreserved() to detect reserved paths on Windows.\n",
      "  if pathlib.PureWindowsPath(name_str).is_reserved():\n",
      "C:\\Users\\boqui\\OneDrive\\Desktop\\nsync\\.venv\\Lib\\site-packages\\exdir\\core\\validation.py:61: DeprecationWarning: pathlib.PurePath.is_reserved() is deprecated and scheduled for removal in Python 3.15. Use os.path.isreserved() to detect reserved paths on Windows.\n",
      "  if pathlib.PureWindowsPath(name_str).is_reserved():\n",
      "C:\\Users\\boqui\\OneDrive\\Desktop\\nsync\\.venv\\Lib\\site-packages\\exdir\\core\\validation.py:61: DeprecationWarning: pathlib.PurePath.is_reserved() is deprecated and scheduled for removal in Python 3.15. Use os.path.isreserved() to detect reserved paths on Windows.\n",
      "  if pathlib.PureWindowsPath(name_str).is_reserved():\n",
      "C:\\Users\\boqui\\OneDrive\\Desktop\\nsync\\.venv\\Lib\\site-packages\\exdir\\core\\validation.py:61: DeprecationWarning: pathlib.PurePath.is_reserved() is deprecated and scheduled for removal in Python 3.15. Use os.path.isreserved() to detect reserved paths on Windows.\n",
      "  if pathlib.PureWindowsPath(name_str).is_reserved():\n",
      "C:\\Users\\boqui\\OneDrive\\Desktop\\nsync\\.venv\\Lib\\site-packages\\exdir\\core\\validation.py:61: DeprecationWarning: pathlib.PurePath.is_reserved() is deprecated and scheduled for removal in Python 3.15. Use os.path.isreserved() to detect reserved paths on Windows.\n",
      "  if pathlib.PureWindowsPath(name_str).is_reserved():\n",
      "C:\\Users\\boqui\\OneDrive\\Desktop\\nsync\\.venv\\Lib\\site-packages\\exdir\\core\\validation.py:61: DeprecationWarning: pathlib.PurePath.is_reserved() is deprecated and scheduled for removal in Python 3.15. Use os.path.isreserved() to detect reserved paths on Windows.\n",
      "  if pathlib.PureWindowsPath(name_str).is_reserved():\n",
      "C:\\Users\\boqui\\OneDrive\\Desktop\\nsync\\.venv\\Lib\\site-packages\\exdir\\core\\validation.py:61: DeprecationWarning: pathlib.PurePath.is_reserved() is deprecated and scheduled for removal in Python 3.15. Use os.path.isreserved() to detect reserved paths on Windows.\n",
      "  if pathlib.PureWindowsPath(name_str).is_reserved():\n",
      "C:\\Users\\boqui\\OneDrive\\Desktop\\nsync\\.venv\\Lib\\site-packages\\exdir\\core\\validation.py:61: DeprecationWarning: pathlib.PurePath.is_reserved() is deprecated and scheduled for removal in Python 3.15. Use os.path.isreserved() to detect reserved paths on Windows.\n",
      "  if pathlib.PureWindowsPath(name_str).is_reserved():\n"
     ]
    },
    {
     "name": "stdout",
     "output_type": "stream",
     "text": [
      "Insufficient target events found.\n",
      "Insufficient target events found.\n",
      "Insufficient target events found.\n"
     ]
    },
    {
     "name": "stderr",
     "output_type": "stream",
     "text": [
      "C:\\Users\\boqui\\OneDrive\\Desktop\\nsync\\.venv\\Lib\\site-packages\\exdir\\core\\validation.py:61: DeprecationWarning: pathlib.PurePath.is_reserved() is deprecated and scheduled for removal in Python 3.15. Use os.path.isreserved() to detect reserved paths on Windows.\n",
      "  if pathlib.PureWindowsPath(name_str).is_reserved():\n",
      "C:\\Users\\boqui\\OneDrive\\Desktop\\nsync\\.venv\\Lib\\site-packages\\exdir\\core\\validation.py:61: DeprecationWarning: pathlib.PurePath.is_reserved() is deprecated and scheduled for removal in Python 3.15. Use os.path.isreserved() to detect reserved paths on Windows.\n",
      "  if pathlib.PureWindowsPath(name_str).is_reserved():\n",
      "C:\\Users\\boqui\\OneDrive\\Desktop\\nsync\\.venv\\Lib\\site-packages\\exdir\\core\\validation.py:61: DeprecationWarning: pathlib.PurePath.is_reserved() is deprecated and scheduled for removal in Python 3.15. Use os.path.isreserved() to detect reserved paths on Windows.\n",
      "  if pathlib.PureWindowsPath(name_str).is_reserved():\n",
      "C:\\Users\\boqui\\OneDrive\\Desktop\\nsync\\.venv\\Lib\\site-packages\\exdir\\core\\validation.py:61: DeprecationWarning: pathlib.PurePath.is_reserved() is deprecated and scheduled for removal in Python 3.15. Use os.path.isreserved() to detect reserved paths on Windows.\n",
      "  if pathlib.PureWindowsPath(name_str).is_reserved():\n",
      "C:\\Users\\boqui\\OneDrive\\Desktop\\nsync\\.venv\\Lib\\site-packages\\exdir\\core\\validation.py:61: DeprecationWarning: pathlib.PurePath.is_reserved() is deprecated and scheduled for removal in Python 3.15. Use os.path.isreserved() to detect reserved paths on Windows.\n",
      "  if pathlib.PureWindowsPath(name_str).is_reserved():\n",
      "C:\\Users\\boqui\\OneDrive\\Desktop\\nsync\\.venv\\Lib\\site-packages\\exdir\\core\\validation.py:61: DeprecationWarning: pathlib.PurePath.is_reserved() is deprecated and scheduled for removal in Python 3.15. Use os.path.isreserved() to detect reserved paths on Windows.\n",
      "  if pathlib.PureWindowsPath(name_str).is_reserved():\n",
      "C:\\Users\\boqui\\OneDrive\\Desktop\\nsync\\.venv\\Lib\\site-packages\\exdir\\core\\validation.py:61: DeprecationWarning: pathlib.PurePath.is_reserved() is deprecated and scheduled for removal in Python 3.15. Use os.path.isreserved() to detect reserved paths on Windows.\n",
      "  if pathlib.PureWindowsPath(name_str).is_reserved():\n",
      "C:\\Users\\boqui\\OneDrive\\Desktop\\nsync\\.venv\\Lib\\site-packages\\exdir\\core\\validation.py:61: DeprecationWarning: pathlib.PurePath.is_reserved() is deprecated and scheduled for removal in Python 3.15. Use os.path.isreserved() to detect reserved paths on Windows.\n",
      "  if pathlib.PureWindowsPath(name_str).is_reserved():\n"
     ]
    },
    {
     "name": "stdout",
     "output_type": "stream",
     "text": [
      "Insufficient target events found.\n",
      "Insufficient target events found.\n",
      "Insufficient target events found.\n",
      "Day: 4 LastExt, Animals: 23, Num Neurons: 2198\n"
     ]
    },
    {
     "name": "stderr",
     "output_type": "stream",
     "text": [
      "C:\\Users\\boqui\\OneDrive\\Desktop\\nsync\\.venv\\Lib\\site-packages\\exdir\\core\\validation.py:61: DeprecationWarning: pathlib.PurePath.is_reserved() is deprecated and scheduled for removal in Python 3.15. Use os.path.isreserved() to detect reserved paths on Windows.\n",
      "  if pathlib.PureWindowsPath(name_str).is_reserved():\n",
      "C:\\Users\\boqui\\OneDrive\\Desktop\\nsync\\.venv\\Lib\\site-packages\\exdir\\core\\validation.py:61: DeprecationWarning: pathlib.PurePath.is_reserved() is deprecated and scheduled for removal in Python 3.15. Use os.path.isreserved() to detect reserved paths on Windows.\n",
      "  if pathlib.PureWindowsPath(name_str).is_reserved():\n",
      "C:\\Users\\boqui\\OneDrive\\Desktop\\nsync\\.venv\\Lib\\site-packages\\exdir\\core\\validation.py:61: DeprecationWarning: pathlib.PurePath.is_reserved() is deprecated and scheduled for removal in Python 3.15. Use os.path.isreserved() to detect reserved paths on Windows.\n",
      "  if pathlib.PureWindowsPath(name_str).is_reserved():\n",
      "C:\\Users\\boqui\\OneDrive\\Desktop\\nsync\\.venv\\Lib\\site-packages\\exdir\\core\\validation.py:61: DeprecationWarning: pathlib.PurePath.is_reserved() is deprecated and scheduled for removal in Python 3.15. Use os.path.isreserved() to detect reserved paths on Windows.\n",
      "  if pathlib.PureWindowsPath(name_str).is_reserved():\n",
      "C:\\Users\\boqui\\OneDrive\\Desktop\\nsync\\.venv\\Lib\\site-packages\\exdir\\core\\validation.py:61: DeprecationWarning: pathlib.PurePath.is_reserved() is deprecated and scheduled for removal in Python 3.15. Use os.path.isreserved() to detect reserved paths on Windows.\n",
      "  if pathlib.PureWindowsPath(name_str).is_reserved():\n",
      "C:\\Users\\boqui\\OneDrive\\Desktop\\nsync\\.venv\\Lib\\site-packages\\exdir\\core\\validation.py:61: DeprecationWarning: pathlib.PurePath.is_reserved() is deprecated and scheduled for removal in Python 3.15. Use os.path.isreserved() to detect reserved paths on Windows.\n",
      "  if pathlib.PureWindowsPath(name_str).is_reserved():\n",
      "C:\\Users\\boqui\\OneDrive\\Desktop\\nsync\\.venv\\Lib\\site-packages\\exdir\\core\\validation.py:61: DeprecationWarning: pathlib.PurePath.is_reserved() is deprecated and scheduled for removal in Python 3.15. Use os.path.isreserved() to detect reserved paths on Windows.\n",
      "  if pathlib.PureWindowsPath(name_str).is_reserved():\n",
      "C:\\Users\\boqui\\OneDrive\\Desktop\\nsync\\.venv\\Lib\\site-packages\\exdir\\core\\validation.py:61: DeprecationWarning: pathlib.PurePath.is_reserved() is deprecated and scheduled for removal in Python 3.15. Use os.path.isreserved() to detect reserved paths on Windows.\n",
      "  if pathlib.PureWindowsPath(name_str).is_reserved():\n",
      "C:\\Users\\boqui\\OneDrive\\Desktop\\nsync\\.venv\\Lib\\site-packages\\exdir\\core\\validation.py:61: DeprecationWarning: pathlib.PurePath.is_reserved() is deprecated and scheduled for removal in Python 3.15. Use os.path.isreserved() to detect reserved paths on Windows.\n",
      "  if pathlib.PureWindowsPath(name_str).is_reserved():\n",
      "C:\\Users\\boqui\\OneDrive\\Desktop\\nsync\\.venv\\Lib\\site-packages\\exdir\\core\\validation.py:61: DeprecationWarning: pathlib.PurePath.is_reserved() is deprecated and scheduled for removal in Python 3.15. Use os.path.isreserved() to detect reserved paths on Windows.\n",
      "  if pathlib.PureWindowsPath(name_str).is_reserved():\n",
      "C:\\Users\\boqui\\OneDrive\\Desktop\\nsync\\.venv\\Lib\\site-packages\\exdir\\core\\validation.py:61: DeprecationWarning: pathlib.PurePath.is_reserved() is deprecated and scheduled for removal in Python 3.15. Use os.path.isreserved() to detect reserved paths on Windows.\n",
      "  if pathlib.PureWindowsPath(name_str).is_reserved():\n",
      "C:\\Users\\boqui\\OneDrive\\Desktop\\nsync\\.venv\\Lib\\site-packages\\exdir\\core\\validation.py:61: DeprecationWarning: pathlib.PurePath.is_reserved() is deprecated and scheduled for removal in Python 3.15. Use os.path.isreserved() to detect reserved paths on Windows.\n",
      "  if pathlib.PureWindowsPath(name_str).is_reserved():\n",
      "C:\\Users\\boqui\\OneDrive\\Desktop\\nsync\\.venv\\Lib\\site-packages\\exdir\\core\\validation.py:61: DeprecationWarning: pathlib.PurePath.is_reserved() is deprecated and scheduled for removal in Python 3.15. Use os.path.isreserved() to detect reserved paths on Windows.\n",
      "  if pathlib.PureWindowsPath(name_str).is_reserved():\n",
      "C:\\Users\\boqui\\OneDrive\\Desktop\\nsync\\.venv\\Lib\\site-packages\\exdir\\core\\validation.py:61: DeprecationWarning: pathlib.PurePath.is_reserved() is deprecated and scheduled for removal in Python 3.15. Use os.path.isreserved() to detect reserved paths on Windows.\n",
      "  if pathlib.PureWindowsPath(name_str).is_reserved():\n",
      "C:\\Users\\boqui\\OneDrive\\Desktop\\nsync\\.venv\\Lib\\site-packages\\exdir\\core\\validation.py:61: DeprecationWarning: pathlib.PurePath.is_reserved() is deprecated and scheduled for removal in Python 3.15. Use os.path.isreserved() to detect reserved paths on Windows.\n",
      "  if pathlib.PureWindowsPath(name_str).is_reserved():\n",
      "C:\\Users\\boqui\\OneDrive\\Desktop\\nsync\\.venv\\Lib\\site-packages\\exdir\\core\\validation.py:61: DeprecationWarning: pathlib.PurePath.is_reserved() is deprecated and scheduled for removal in Python 3.15. Use os.path.isreserved() to detect reserved paths on Windows.\n",
      "  if pathlib.PureWindowsPath(name_str).is_reserved():\n",
      "C:\\Users\\boqui\\OneDrive\\Desktop\\nsync\\.venv\\Lib\\site-packages\\exdir\\core\\validation.py:61: DeprecationWarning: pathlib.PurePath.is_reserved() is deprecated and scheduled for removal in Python 3.15. Use os.path.isreserved() to detect reserved paths on Windows.\n",
      "  if pathlib.PureWindowsPath(name_str).is_reserved():\n",
      "C:\\Users\\boqui\\OneDrive\\Desktop\\nsync\\.venv\\Lib\\site-packages\\exdir\\core\\validation.py:61: DeprecationWarning: pathlib.PurePath.is_reserved() is deprecated and scheduled for removal in Python 3.15. Use os.path.isreserved() to detect reserved paths on Windows.\n",
      "  if pathlib.PureWindowsPath(name_str).is_reserved():\n",
      "C:\\Users\\boqui\\OneDrive\\Desktop\\nsync\\.venv\\Lib\\site-packages\\exdir\\core\\validation.py:61: DeprecationWarning: pathlib.PurePath.is_reserved() is deprecated and scheduled for removal in Python 3.15. Use os.path.isreserved() to detect reserved paths on Windows.\n",
      "  if pathlib.PureWindowsPath(name_str).is_reserved():\n",
      "C:\\Users\\boqui\\OneDrive\\Desktop\\nsync\\.venv\\Lib\\site-packages\\exdir\\core\\validation.py:61: DeprecationWarning: pathlib.PurePath.is_reserved() is deprecated and scheduled for removal in Python 3.15. Use os.path.isreserved() to detect reserved paths on Windows.\n",
      "  if pathlib.PureWindowsPath(name_str).is_reserved():\n",
      "C:\\Users\\boqui\\OneDrive\\Desktop\\nsync\\.venv\\Lib\\site-packages\\exdir\\core\\validation.py:61: DeprecationWarning: pathlib.PurePath.is_reserved() is deprecated and scheduled for removal in Python 3.15. Use os.path.isreserved() to detect reserved paths on Windows.\n",
      "  if pathlib.PureWindowsPath(name_str).is_reserved():\n",
      "C:\\Users\\boqui\\OneDrive\\Desktop\\nsync\\.venv\\Lib\\site-packages\\exdir\\core\\validation.py:61: DeprecationWarning: pathlib.PurePath.is_reserved() is deprecated and scheduled for removal in Python 3.15. Use os.path.isreserved() to detect reserved paths on Windows.\n",
      "  if pathlib.PureWindowsPath(name_str).is_reserved():\n",
      "C:\\Users\\boqui\\OneDrive\\Desktop\\nsync\\.venv\\Lib\\site-packages\\exdir\\core\\validation.py:61: DeprecationWarning: pathlib.PurePath.is_reserved() is deprecated and scheduled for removal in Python 3.15. Use os.path.isreserved() to detect reserved paths on Windows.\n",
      "  if pathlib.PureWindowsPath(name_str).is_reserved():\n",
      "C:\\Users\\boqui\\OneDrive\\Desktop\\nsync\\.venv\\Lib\\site-packages\\exdir\\core\\validation.py:61: DeprecationWarning: pathlib.PurePath.is_reserved() is deprecated and scheduled for removal in Python 3.15. Use os.path.isreserved() to detect reserved paths on Windows.\n",
      "  if pathlib.PureWindowsPath(name_str).is_reserved():\n",
      "C:\\Users\\boqui\\OneDrive\\Desktop\\nsync\\.venv\\Lib\\site-packages\\exdir\\core\\validation.py:61: DeprecationWarning: pathlib.PurePath.is_reserved() is deprecated and scheduled for removal in Python 3.15. Use os.path.isreserved() to detect reserved paths on Windows.\n",
      "  if pathlib.PureWindowsPath(name_str).is_reserved():\n",
      "C:\\Users\\boqui\\OneDrive\\Desktop\\nsync\\.venv\\Lib\\site-packages\\exdir\\core\\validation.py:61: DeprecationWarning: pathlib.PurePath.is_reserved() is deprecated and scheduled for removal in Python 3.15. Use os.path.isreserved() to detect reserved paths on Windows.\n",
      "  if pathlib.PureWindowsPath(name_str).is_reserved():\n",
      "C:\\Users\\boqui\\OneDrive\\Desktop\\nsync\\.venv\\Lib\\site-packages\\exdir\\core\\validation.py:61: DeprecationWarning: pathlib.PurePath.is_reserved() is deprecated and scheduled for removal in Python 3.15. Use os.path.isreserved() to detect reserved paths on Windows.\n",
      "  if pathlib.PureWindowsPath(name_str).is_reserved():\n",
      "C:\\Users\\boqui\\OneDrive\\Desktop\\nsync\\.venv\\Lib\\site-packages\\exdir\\core\\validation.py:61: DeprecationWarning: pathlib.PurePath.is_reserved() is deprecated and scheduled for removal in Python 3.15. Use os.path.isreserved() to detect reserved paths on Windows.\n",
      "  if pathlib.PureWindowsPath(name_str).is_reserved():\n",
      "C:\\Users\\boqui\\OneDrive\\Desktop\\nsync\\.venv\\Lib\\site-packages\\exdir\\core\\validation.py:61: DeprecationWarning: pathlib.PurePath.is_reserved() is deprecated and scheduled for removal in Python 3.15. Use os.path.isreserved() to detect reserved paths on Windows.\n",
      "  if pathlib.PureWindowsPath(name_str).is_reserved():\n",
      "C:\\Users\\boqui\\OneDrive\\Desktop\\nsync\\.venv\\Lib\\site-packages\\exdir\\core\\validation.py:61: DeprecationWarning: pathlib.PurePath.is_reserved() is deprecated and scheduled for removal in Python 3.15. Use os.path.isreserved() to detect reserved paths on Windows.\n",
      "  if pathlib.PureWindowsPath(name_str).is_reserved():\n",
      "C:\\Users\\boqui\\OneDrive\\Desktop\\nsync\\.venv\\Lib\\site-packages\\exdir\\core\\validation.py:61: DeprecationWarning: pathlib.PurePath.is_reserved() is deprecated and scheduled for removal in Python 3.15. Use os.path.isreserved() to detect reserved paths on Windows.\n",
      "  if pathlib.PureWindowsPath(name_str).is_reserved():\n",
      "C:\\Users\\boqui\\OneDrive\\Desktop\\nsync\\.venv\\Lib\\site-packages\\exdir\\core\\validation.py:61: DeprecationWarning: pathlib.PurePath.is_reserved() is deprecated and scheduled for removal in Python 3.15. Use os.path.isreserved() to detect reserved paths on Windows.\n",
      "  if pathlib.PureWindowsPath(name_str).is_reserved():\n",
      "C:\\Users\\boqui\\OneDrive\\Desktop\\nsync\\.venv\\Lib\\site-packages\\exdir\\core\\validation.py:61: DeprecationWarning: pathlib.PurePath.is_reserved() is deprecated and scheduled for removal in Python 3.15. Use os.path.isreserved() to detect reserved paths on Windows.\n",
      "  if pathlib.PureWindowsPath(name_str).is_reserved():\n",
      "C:\\Users\\boqui\\OneDrive\\Desktop\\nsync\\.venv\\Lib\\site-packages\\exdir\\core\\validation.py:61: DeprecationWarning: pathlib.PurePath.is_reserved() is deprecated and scheduled for removal in Python 3.15. Use os.path.isreserved() to detect reserved paths on Windows.\n",
      "  if pathlib.PureWindowsPath(name_str).is_reserved():\n",
      "C:\\Users\\boqui\\OneDrive\\Desktop\\nsync\\.venv\\Lib\\site-packages\\exdir\\core\\validation.py:61: DeprecationWarning: pathlib.PurePath.is_reserved() is deprecated and scheduled for removal in Python 3.15. Use os.path.isreserved() to detect reserved paths on Windows.\n",
      "  if pathlib.PureWindowsPath(name_str).is_reserved():\n",
      "C:\\Users\\boqui\\OneDrive\\Desktop\\nsync\\.venv\\Lib\\site-packages\\exdir\\core\\validation.py:61: DeprecationWarning: pathlib.PurePath.is_reserved() is deprecated and scheduled for removal in Python 3.15. Use os.path.isreserved() to detect reserved paths on Windows.\n",
      "  if pathlib.PureWindowsPath(name_str).is_reserved():\n",
      "C:\\Users\\boqui\\OneDrive\\Desktop\\nsync\\.venv\\Lib\\site-packages\\exdir\\core\\validation.py:61: DeprecationWarning: pathlib.PurePath.is_reserved() is deprecated and scheduled for removal in Python 3.15. Use os.path.isreserved() to detect reserved paths on Windows.\n",
      "  if pathlib.PureWindowsPath(name_str).is_reserved():\n",
      "C:\\Users\\boqui\\OneDrive\\Desktop\\nsync\\.venv\\Lib\\site-packages\\exdir\\core\\validation.py:61: DeprecationWarning: pathlib.PurePath.is_reserved() is deprecated and scheduled for removal in Python 3.15. Use os.path.isreserved() to detect reserved paths on Windows.\n",
      "  if pathlib.PureWindowsPath(name_str).is_reserved():\n",
      "C:\\Users\\boqui\\OneDrive\\Desktop\\nsync\\.venv\\Lib\\site-packages\\exdir\\core\\validation.py:61: DeprecationWarning: pathlib.PurePath.is_reserved() is deprecated and scheduled for removal in Python 3.15. Use os.path.isreserved() to detect reserved paths on Windows.\n",
      "  if pathlib.PureWindowsPath(name_str).is_reserved():\n",
      "C:\\Users\\boqui\\OneDrive\\Desktop\\nsync\\.venv\\Lib\\site-packages\\exdir\\core\\validation.py:61: DeprecationWarning: pathlib.PurePath.is_reserved() is deprecated and scheduled for removal in Python 3.15. Use os.path.isreserved() to detect reserved paths on Windows.\n",
      "  if pathlib.PureWindowsPath(name_str).is_reserved():\n",
      "C:\\Users\\boqui\\OneDrive\\Desktop\\nsync\\.venv\\Lib\\site-packages\\exdir\\core\\validation.py:61: DeprecationWarning: pathlib.PurePath.is_reserved() is deprecated and scheduled for removal in Python 3.15. Use os.path.isreserved() to detect reserved paths on Windows.\n",
      "  if pathlib.PureWindowsPath(name_str).is_reserved():\n",
      "C:\\Users\\boqui\\OneDrive\\Desktop\\nsync\\.venv\\Lib\\site-packages\\exdir\\core\\validation.py:61: DeprecationWarning: pathlib.PurePath.is_reserved() is deprecated and scheduled for removal in Python 3.15. Use os.path.isreserved() to detect reserved paths on Windows.\n",
      "  if pathlib.PureWindowsPath(name_str).is_reserved():\n"
     ]
    },
    {
     "name": "stdout",
     "output_type": "stream",
     "text": [
      "Day: 5 CueRein, Animals: 23, Num Neurons: 2192\n"
     ]
    },
    {
     "name": "stderr",
     "output_type": "stream",
     "text": [
      "C:\\Users\\boqui\\OneDrive\\Desktop\\nsync\\.venv\\Lib\\site-packages\\exdir\\core\\validation.py:61: DeprecationWarning: pathlib.PurePath.is_reserved() is deprecated and scheduled for removal in Python 3.15. Use os.path.isreserved() to detect reserved paths on Windows.\n",
      "  if pathlib.PureWindowsPath(name_str).is_reserved():\n",
      "C:\\Users\\boqui\\OneDrive\\Desktop\\nsync\\.venv\\Lib\\site-packages\\exdir\\core\\validation.py:61: DeprecationWarning: pathlib.PurePath.is_reserved() is deprecated and scheduled for removal in Python 3.15. Use os.path.isreserved() to detect reserved paths on Windows.\n",
      "  if pathlib.PureWindowsPath(name_str).is_reserved():\n",
      "C:\\Users\\boqui\\OneDrive\\Desktop\\nsync\\.venv\\Lib\\site-packages\\exdir\\core\\validation.py:61: DeprecationWarning: pathlib.PurePath.is_reserved() is deprecated and scheduled for removal in Python 3.15. Use os.path.isreserved() to detect reserved paths on Windows.\n",
      "  if pathlib.PureWindowsPath(name_str).is_reserved():\n",
      "C:\\Users\\boqui\\OneDrive\\Desktop\\nsync\\.venv\\Lib\\site-packages\\exdir\\core\\validation.py:61: DeprecationWarning: pathlib.PurePath.is_reserved() is deprecated and scheduled for removal in Python 3.15. Use os.path.isreserved() to detect reserved paths on Windows.\n",
      "  if pathlib.PureWindowsPath(name_str).is_reserved():\n",
      "C:\\Users\\boqui\\OneDrive\\Desktop\\nsync\\.venv\\Lib\\site-packages\\exdir\\core\\validation.py:61: DeprecationWarning: pathlib.PurePath.is_reserved() is deprecated and scheduled for removal in Python 3.15. Use os.path.isreserved() to detect reserved paths on Windows.\n",
      "  if pathlib.PureWindowsPath(name_str).is_reserved():\n",
      "C:\\Users\\boqui\\OneDrive\\Desktop\\nsync\\.venv\\Lib\\site-packages\\exdir\\core\\validation.py:61: DeprecationWarning: pathlib.PurePath.is_reserved() is deprecated and scheduled for removal in Python 3.15. Use os.path.isreserved() to detect reserved paths on Windows.\n",
      "  if pathlib.PureWindowsPath(name_str).is_reserved():\n",
      "C:\\Users\\boqui\\OneDrive\\Desktop\\nsync\\.venv\\Lib\\site-packages\\exdir\\core\\validation.py:61: DeprecationWarning: pathlib.PurePath.is_reserved() is deprecated and scheduled for removal in Python 3.15. Use os.path.isreserved() to detect reserved paths on Windows.\n",
      "  if pathlib.PureWindowsPath(name_str).is_reserved():\n",
      "C:\\Users\\boqui\\OneDrive\\Desktop\\nsync\\.venv\\Lib\\site-packages\\exdir\\core\\validation.py:61: DeprecationWarning: pathlib.PurePath.is_reserved() is deprecated and scheduled for removal in Python 3.15. Use os.path.isreserved() to detect reserved paths on Windows.\n",
      "  if pathlib.PureWindowsPath(name_str).is_reserved():\n",
      "C:\\Users\\boqui\\OneDrive\\Desktop\\nsync\\.venv\\Lib\\site-packages\\exdir\\core\\validation.py:61: DeprecationWarning: pathlib.PurePath.is_reserved() is deprecated and scheduled for removal in Python 3.15. Use os.path.isreserved() to detect reserved paths on Windows.\n",
      "  if pathlib.PureWindowsPath(name_str).is_reserved():\n",
      "C:\\Users\\boqui\\OneDrive\\Desktop\\nsync\\.venv\\Lib\\site-packages\\exdir\\core\\validation.py:61: DeprecationWarning: pathlib.PurePath.is_reserved() is deprecated and scheduled for removal in Python 3.15. Use os.path.isreserved() to detect reserved paths on Windows.\n",
      "  if pathlib.PureWindowsPath(name_str).is_reserved():\n",
      "C:\\Users\\boqui\\OneDrive\\Desktop\\nsync\\.venv\\Lib\\site-packages\\exdir\\core\\validation.py:61: DeprecationWarning: pathlib.PurePath.is_reserved() is deprecated and scheduled for removal in Python 3.15. Use os.path.isreserved() to detect reserved paths on Windows.\n",
      "  if pathlib.PureWindowsPath(name_str).is_reserved():\n",
      "C:\\Users\\boqui\\OneDrive\\Desktop\\nsync\\.venv\\Lib\\site-packages\\exdir\\core\\validation.py:61: DeprecationWarning: pathlib.PurePath.is_reserved() is deprecated and scheduled for removal in Python 3.15. Use os.path.isreserved() to detect reserved paths on Windows.\n",
      "  if pathlib.PureWindowsPath(name_str).is_reserved():\n",
      "C:\\Users\\boqui\\OneDrive\\Desktop\\nsync\\.venv\\Lib\\site-packages\\exdir\\core\\validation.py:61: DeprecationWarning: pathlib.PurePath.is_reserved() is deprecated and scheduled for removal in Python 3.15. Use os.path.isreserved() to detect reserved paths on Windows.\n",
      "  if pathlib.PureWindowsPath(name_str).is_reserved():\n",
      "C:\\Users\\boqui\\OneDrive\\Desktop\\nsync\\.venv\\Lib\\site-packages\\exdir\\core\\validation.py:61: DeprecationWarning: pathlib.PurePath.is_reserved() is deprecated and scheduled for removal in Python 3.15. Use os.path.isreserved() to detect reserved paths on Windows.\n",
      "  if pathlib.PureWindowsPath(name_str).is_reserved():\n",
      "C:\\Users\\boqui\\OneDrive\\Desktop\\nsync\\.venv\\Lib\\site-packages\\exdir\\core\\validation.py:61: DeprecationWarning: pathlib.PurePath.is_reserved() is deprecated and scheduled for removal in Python 3.15. Use os.path.isreserved() to detect reserved paths on Windows.\n",
      "  if pathlib.PureWindowsPath(name_str).is_reserved():\n",
      "C:\\Users\\boqui\\OneDrive\\Desktop\\nsync\\.venv\\Lib\\site-packages\\exdir\\core\\validation.py:61: DeprecationWarning: pathlib.PurePath.is_reserved() is deprecated and scheduled for removal in Python 3.15. Use os.path.isreserved() to detect reserved paths on Windows.\n",
      "  if pathlib.PureWindowsPath(name_str).is_reserved():\n",
      "C:\\Users\\boqui\\OneDrive\\Desktop\\nsync\\.venv\\Lib\\site-packages\\exdir\\core\\validation.py:61: DeprecationWarning: pathlib.PurePath.is_reserved() is deprecated and scheduled for removal in Python 3.15. Use os.path.isreserved() to detect reserved paths on Windows.\n",
      "  if pathlib.PureWindowsPath(name_str).is_reserved():\n",
      "C:\\Users\\boqui\\OneDrive\\Desktop\\nsync\\.venv\\Lib\\site-packages\\exdir\\core\\validation.py:61: DeprecationWarning: pathlib.PurePath.is_reserved() is deprecated and scheduled for removal in Python 3.15. Use os.path.isreserved() to detect reserved paths on Windows.\n",
      "  if pathlib.PureWindowsPath(name_str).is_reserved():\n",
      "C:\\Users\\boqui\\OneDrive\\Desktop\\nsync\\.venv\\Lib\\site-packages\\exdir\\core\\validation.py:61: DeprecationWarning: pathlib.PurePath.is_reserved() is deprecated and scheduled for removal in Python 3.15. Use os.path.isreserved() to detect reserved paths on Windows.\n",
      "  if pathlib.PureWindowsPath(name_str).is_reserved():\n",
      "C:\\Users\\boqui\\OneDrive\\Desktop\\nsync\\.venv\\Lib\\site-packages\\exdir\\core\\validation.py:61: DeprecationWarning: pathlib.PurePath.is_reserved() is deprecated and scheduled for removal in Python 3.15. Use os.path.isreserved() to detect reserved paths on Windows.\n",
      "  if pathlib.PureWindowsPath(name_str).is_reserved():\n",
      "C:\\Users\\boqui\\OneDrive\\Desktop\\nsync\\.venv\\Lib\\site-packages\\exdir\\core\\validation.py:61: DeprecationWarning: pathlib.PurePath.is_reserved() is deprecated and scheduled for removal in Python 3.15. Use os.path.isreserved() to detect reserved paths on Windows.\n",
      "  if pathlib.PureWindowsPath(name_str).is_reserved():\n",
      "C:\\Users\\boqui\\OneDrive\\Desktop\\nsync\\.venv\\Lib\\site-packages\\exdir\\core\\validation.py:61: DeprecationWarning: pathlib.PurePath.is_reserved() is deprecated and scheduled for removal in Python 3.15. Use os.path.isreserved() to detect reserved paths on Windows.\n",
      "  if pathlib.PureWindowsPath(name_str).is_reserved():\n",
      "C:\\Users\\boqui\\OneDrive\\Desktop\\nsync\\.venv\\Lib\\site-packages\\exdir\\core\\validation.py:61: DeprecationWarning: pathlib.PurePath.is_reserved() is deprecated and scheduled for removal in Python 3.15. Use os.path.isreserved() to detect reserved paths on Windows.\n",
      "  if pathlib.PureWindowsPath(name_str).is_reserved():\n",
      "C:\\Users\\boqui\\OneDrive\\Desktop\\nsync\\.venv\\Lib\\site-packages\\exdir\\core\\validation.py:61: DeprecationWarning: pathlib.PurePath.is_reserved() is deprecated and scheduled for removal in Python 3.15. Use os.path.isreserved() to detect reserved paths on Windows.\n",
      "  if pathlib.PureWindowsPath(name_str).is_reserved():\n",
      "C:\\Users\\boqui\\OneDrive\\Desktop\\nsync\\.venv\\Lib\\site-packages\\exdir\\core\\validation.py:61: DeprecationWarning: pathlib.PurePath.is_reserved() is deprecated and scheduled for removal in Python 3.15. Use os.path.isreserved() to detect reserved paths on Windows.\n",
      "  if pathlib.PureWindowsPath(name_str).is_reserved():\n",
      "C:\\Users\\boqui\\OneDrive\\Desktop\\nsync\\.venv\\Lib\\site-packages\\exdir\\core\\validation.py:61: DeprecationWarning: pathlib.PurePath.is_reserved() is deprecated and scheduled for removal in Python 3.15. Use os.path.isreserved() to detect reserved paths on Windows.\n",
      "  if pathlib.PureWindowsPath(name_str).is_reserved():\n",
      "C:\\Users\\boqui\\OneDrive\\Desktop\\nsync\\.venv\\Lib\\site-packages\\exdir\\core\\validation.py:61: DeprecationWarning: pathlib.PurePath.is_reserved() is deprecated and scheduled for removal in Python 3.15. Use os.path.isreserved() to detect reserved paths on Windows.\n",
      "  if pathlib.PureWindowsPath(name_str).is_reserved():\n",
      "C:\\Users\\boqui\\OneDrive\\Desktop\\nsync\\.venv\\Lib\\site-packages\\exdir\\core\\validation.py:61: DeprecationWarning: pathlib.PurePath.is_reserved() is deprecated and scheduled for removal in Python 3.15. Use os.path.isreserved() to detect reserved paths on Windows.\n",
      "  if pathlib.PureWindowsPath(name_str).is_reserved():\n",
      "C:\\Users\\boqui\\OneDrive\\Desktop\\nsync\\.venv\\Lib\\site-packages\\exdir\\core\\validation.py:61: DeprecationWarning: pathlib.PurePath.is_reserved() is deprecated and scheduled for removal in Python 3.15. Use os.path.isreserved() to detect reserved paths on Windows.\n",
      "  if pathlib.PureWindowsPath(name_str).is_reserved():\n",
      "C:\\Users\\boqui\\OneDrive\\Desktop\\nsync\\.venv\\Lib\\site-packages\\exdir\\core\\validation.py:61: DeprecationWarning: pathlib.PurePath.is_reserved() is deprecated and scheduled for removal in Python 3.15. Use os.path.isreserved() to detect reserved paths on Windows.\n",
      "  if pathlib.PureWindowsPath(name_str).is_reserved():\n",
      "C:\\Users\\boqui\\OneDrive\\Desktop\\nsync\\.venv\\Lib\\site-packages\\exdir\\core\\validation.py:61: DeprecationWarning: pathlib.PurePath.is_reserved() is deprecated and scheduled for removal in Python 3.15. Use os.path.isreserved() to detect reserved paths on Windows.\n",
      "  if pathlib.PureWindowsPath(name_str).is_reserved():\n",
      "C:\\Users\\boqui\\OneDrive\\Desktop\\nsync\\.venv\\Lib\\site-packages\\exdir\\core\\validation.py:61: DeprecationWarning: pathlib.PurePath.is_reserved() is deprecated and scheduled for removal in Python 3.15. Use os.path.isreserved() to detect reserved paths on Windows.\n",
      "  if pathlib.PureWindowsPath(name_str).is_reserved():\n",
      "C:\\Users\\boqui\\OneDrive\\Desktop\\nsync\\.venv\\Lib\\site-packages\\exdir\\core\\validation.py:61: DeprecationWarning: pathlib.PurePath.is_reserved() is deprecated and scheduled for removal in Python 3.15. Use os.path.isreserved() to detect reserved paths on Windows.\n",
      "  if pathlib.PureWindowsPath(name_str).is_reserved():\n",
      "C:\\Users\\boqui\\OneDrive\\Desktop\\nsync\\.venv\\Lib\\site-packages\\exdir\\core\\validation.py:61: DeprecationWarning: pathlib.PurePath.is_reserved() is deprecated and scheduled for removal in Python 3.15. Use os.path.isreserved() to detect reserved paths on Windows.\n",
      "  if pathlib.PureWindowsPath(name_str).is_reserved():\n",
      "C:\\Users\\boqui\\OneDrive\\Desktop\\nsync\\.venv\\Lib\\site-packages\\exdir\\core\\validation.py:61: DeprecationWarning: pathlib.PurePath.is_reserved() is deprecated and scheduled for removal in Python 3.15. Use os.path.isreserved() to detect reserved paths on Windows.\n",
      "  if pathlib.PureWindowsPath(name_str).is_reserved():\n",
      "C:\\Users\\boqui\\OneDrive\\Desktop\\nsync\\.venv\\Lib\\site-packages\\exdir\\core\\validation.py:61: DeprecationWarning: pathlib.PurePath.is_reserved() is deprecated and scheduled for removal in Python 3.15. Use os.path.isreserved() to detect reserved paths on Windows.\n",
      "  if pathlib.PureWindowsPath(name_str).is_reserved():\n",
      "C:\\Users\\boqui\\OneDrive\\Desktop\\nsync\\.venv\\Lib\\site-packages\\exdir\\core\\validation.py:61: DeprecationWarning: pathlib.PurePath.is_reserved() is deprecated and scheduled for removal in Python 3.15. Use os.path.isreserved() to detect reserved paths on Windows.\n",
      "  if pathlib.PureWindowsPath(name_str).is_reserved():\n",
      "C:\\Users\\boqui\\OneDrive\\Desktop\\nsync\\.venv\\Lib\\site-packages\\exdir\\core\\validation.py:61: DeprecationWarning: pathlib.PurePath.is_reserved() is deprecated and scheduled for removal in Python 3.15. Use os.path.isreserved() to detect reserved paths on Windows.\n",
      "  if pathlib.PureWindowsPath(name_str).is_reserved():\n"
     ]
    },
    {
     "name": "stdout",
     "output_type": "stream",
     "text": [
      "Day: 6 DrugRein, Animals: 22, Num Neurons: 2381\n"
     ]
    },
    {
     "name": "stderr",
     "output_type": "stream",
     "text": [
      "C:\\Users\\boqui\\OneDrive\\Desktop\\nsync\\.venv\\Lib\\site-packages\\exdir\\core\\validation.py:61: DeprecationWarning: pathlib.PurePath.is_reserved() is deprecated and scheduled for removal in Python 3.15. Use os.path.isreserved() to detect reserved paths on Windows.\n",
      "  if pathlib.PureWindowsPath(name_str).is_reserved():\n",
      "C:\\Users\\boqui\\OneDrive\\Desktop\\nsync\\.venv\\Lib\\site-packages\\exdir\\core\\validation.py:61: DeprecationWarning: pathlib.PurePath.is_reserved() is deprecated and scheduled for removal in Python 3.15. Use os.path.isreserved() to detect reserved paths on Windows.\n",
      "  if pathlib.PureWindowsPath(name_str).is_reserved():\n",
      "C:\\Users\\boqui\\OneDrive\\Desktop\\nsync\\.venv\\Lib\\site-packages\\exdir\\core\\validation.py:61: DeprecationWarning: pathlib.PurePath.is_reserved() is deprecated and scheduled for removal in Python 3.15. Use os.path.isreserved() to detect reserved paths on Windows.\n",
      "  if pathlib.PureWindowsPath(name_str).is_reserved():\n",
      "C:\\Users\\boqui\\OneDrive\\Desktop\\nsync\\.venv\\Lib\\site-packages\\exdir\\core\\validation.py:61: DeprecationWarning: pathlib.PurePath.is_reserved() is deprecated and scheduled for removal in Python 3.15. Use os.path.isreserved() to detect reserved paths on Windows.\n",
      "  if pathlib.PureWindowsPath(name_str).is_reserved():\n",
      "C:\\Users\\boqui\\OneDrive\\Desktop\\nsync\\.venv\\Lib\\site-packages\\exdir\\core\\validation.py:61: DeprecationWarning: pathlib.PurePath.is_reserved() is deprecated and scheduled for removal in Python 3.15. Use os.path.isreserved() to detect reserved paths on Windows.\n",
      "  if pathlib.PureWindowsPath(name_str).is_reserved():\n",
      "C:\\Users\\boqui\\OneDrive\\Desktop\\nsync\\.venv\\Lib\\site-packages\\exdir\\core\\validation.py:61: DeprecationWarning: pathlib.PurePath.is_reserved() is deprecated and scheduled for removal in Python 3.15. Use os.path.isreserved() to detect reserved paths on Windows.\n",
      "  if pathlib.PureWindowsPath(name_str).is_reserved():\n",
      "C:\\Users\\boqui\\OneDrive\\Desktop\\nsync\\.venv\\Lib\\site-packages\\exdir\\core\\validation.py:61: DeprecationWarning: pathlib.PurePath.is_reserved() is deprecated and scheduled for removal in Python 3.15. Use os.path.isreserved() to detect reserved paths on Windows.\n",
      "  if pathlib.PureWindowsPath(name_str).is_reserved():\n",
      "C:\\Users\\boqui\\OneDrive\\Desktop\\nsync\\.venv\\Lib\\site-packages\\exdir\\core\\validation.py:61: DeprecationWarning: pathlib.PurePath.is_reserved() is deprecated and scheduled for removal in Python 3.15. Use os.path.isreserved() to detect reserved paths on Windows.\n",
      "  if pathlib.PureWindowsPath(name_str).is_reserved():\n",
      "C:\\Users\\boqui\\OneDrive\\Desktop\\nsync\\.venv\\Lib\\site-packages\\exdir\\core\\validation.py:61: DeprecationWarning: pathlib.PurePath.is_reserved() is deprecated and scheduled for removal in Python 3.15. Use os.path.isreserved() to detect reserved paths on Windows.\n",
      "  if pathlib.PureWindowsPath(name_str).is_reserved():\n",
      "C:\\Users\\boqui\\OneDrive\\Desktop\\nsync\\.venv\\Lib\\site-packages\\exdir\\core\\validation.py:61: DeprecationWarning: pathlib.PurePath.is_reserved() is deprecated and scheduled for removal in Python 3.15. Use os.path.isreserved() to detect reserved paths on Windows.\n",
      "  if pathlib.PureWindowsPath(name_str).is_reserved():\n",
      "C:\\Users\\boqui\\OneDrive\\Desktop\\nsync\\.venv\\Lib\\site-packages\\exdir\\core\\validation.py:61: DeprecationWarning: pathlib.PurePath.is_reserved() is deprecated and scheduled for removal in Python 3.15. Use os.path.isreserved() to detect reserved paths on Windows.\n",
      "  if pathlib.PureWindowsPath(name_str).is_reserved():\n",
      "C:\\Users\\boqui\\OneDrive\\Desktop\\nsync\\.venv\\Lib\\site-packages\\exdir\\core\\validation.py:61: DeprecationWarning: pathlib.PurePath.is_reserved() is deprecated and scheduled for removal in Python 3.15. Use os.path.isreserved() to detect reserved paths on Windows.\n",
      "  if pathlib.PureWindowsPath(name_str).is_reserved():\n",
      "C:\\Users\\boqui\\OneDrive\\Desktop\\nsync\\.venv\\Lib\\site-packages\\exdir\\core\\validation.py:61: DeprecationWarning: pathlib.PurePath.is_reserved() is deprecated and scheduled for removal in Python 3.15. Use os.path.isreserved() to detect reserved paths on Windows.\n",
      "  if pathlib.PureWindowsPath(name_str).is_reserved():\n",
      "C:\\Users\\boqui\\OneDrive\\Desktop\\nsync\\.venv\\Lib\\site-packages\\exdir\\core\\validation.py:61: DeprecationWarning: pathlib.PurePath.is_reserved() is deprecated and scheduled for removal in Python 3.15. Use os.path.isreserved() to detect reserved paths on Windows.\n",
      "  if pathlib.PureWindowsPath(name_str).is_reserved():\n",
      "C:\\Users\\boqui\\OneDrive\\Desktop\\nsync\\.venv\\Lib\\site-packages\\exdir\\core\\validation.py:61: DeprecationWarning: pathlib.PurePath.is_reserved() is deprecated and scheduled for removal in Python 3.15. Use os.path.isreserved() to detect reserved paths on Windows.\n",
      "  if pathlib.PureWindowsPath(name_str).is_reserved():\n",
      "C:\\Users\\boqui\\OneDrive\\Desktop\\nsync\\.venv\\Lib\\site-packages\\exdir\\core\\validation.py:61: DeprecationWarning: pathlib.PurePath.is_reserved() is deprecated and scheduled for removal in Python 3.15. Use os.path.isreserved() to detect reserved paths on Windows.\n",
      "  if pathlib.PureWindowsPath(name_str).is_reserved():\n",
      "C:\\Users\\boqui\\OneDrive\\Desktop\\nsync\\.venv\\Lib\\site-packages\\exdir\\core\\validation.py:61: DeprecationWarning: pathlib.PurePath.is_reserved() is deprecated and scheduled for removal in Python 3.15. Use os.path.isreserved() to detect reserved paths on Windows.\n",
      "  if pathlib.PureWindowsPath(name_str).is_reserved():\n",
      "C:\\Users\\boqui\\OneDrive\\Desktop\\nsync\\.venv\\Lib\\site-packages\\exdir\\core\\validation.py:61: DeprecationWarning: pathlib.PurePath.is_reserved() is deprecated and scheduled for removal in Python 3.15. Use os.path.isreserved() to detect reserved paths on Windows.\n",
      "  if pathlib.PureWindowsPath(name_str).is_reserved():\n",
      "C:\\Users\\boqui\\OneDrive\\Desktop\\nsync\\.venv\\Lib\\site-packages\\exdir\\core\\validation.py:61: DeprecationWarning: pathlib.PurePath.is_reserved() is deprecated and scheduled for removal in Python 3.15. Use os.path.isreserved() to detect reserved paths on Windows.\n",
      "  if pathlib.PureWindowsPath(name_str).is_reserved():\n",
      "C:\\Users\\boqui\\OneDrive\\Desktop\\nsync\\.venv\\Lib\\site-packages\\exdir\\core\\validation.py:61: DeprecationWarning: pathlib.PurePath.is_reserved() is deprecated and scheduled for removal in Python 3.15. Use os.path.isreserved() to detect reserved paths on Windows.\n",
      "  if pathlib.PureWindowsPath(name_str).is_reserved():\n",
      "C:\\Users\\boqui\\OneDrive\\Desktop\\nsync\\.venv\\Lib\\site-packages\\exdir\\core\\validation.py:61: DeprecationWarning: pathlib.PurePath.is_reserved() is deprecated and scheduled for removal in Python 3.15. Use os.path.isreserved() to detect reserved paths on Windows.\n",
      "  if pathlib.PureWindowsPath(name_str).is_reserved():\n",
      "C:\\Users\\boqui\\OneDrive\\Desktop\\nsync\\.venv\\Lib\\site-packages\\exdir\\core\\validation.py:61: DeprecationWarning: pathlib.PurePath.is_reserved() is deprecated and scheduled for removal in Python 3.15. Use os.path.isreserved() to detect reserved paths on Windows.\n",
      "  if pathlib.PureWindowsPath(name_str).is_reserved():\n",
      "C:\\Users\\boqui\\OneDrive\\Desktop\\nsync\\.venv\\Lib\\site-packages\\exdir\\core\\validation.py:61: DeprecationWarning: pathlib.PurePath.is_reserved() is deprecated and scheduled for removal in Python 3.15. Use os.path.isreserved() to detect reserved paths on Windows.\n",
      "  if pathlib.PureWindowsPath(name_str).is_reserved():\n",
      "C:\\Users\\boqui\\OneDrive\\Desktop\\nsync\\.venv\\Lib\\site-packages\\exdir\\core\\validation.py:61: DeprecationWarning: pathlib.PurePath.is_reserved() is deprecated and scheduled for removal in Python 3.15. Use os.path.isreserved() to detect reserved paths on Windows.\n",
      "  if pathlib.PureWindowsPath(name_str).is_reserved():\n"
     ]
    },
    {
     "name": "stdout",
     "output_type": "stream",
     "text": [
      "Day: 7 TMTRein, Animals: 22, Num Neurons: 2223\n"
     ]
    },
    {
     "name": "stderr",
     "output_type": "stream",
     "text": [
      "C:\\Users\\boqui\\OneDrive\\Desktop\\nsync\\.venv\\Lib\\site-packages\\exdir\\core\\validation.py:61: DeprecationWarning: pathlib.PurePath.is_reserved() is deprecated and scheduled for removal in Python 3.15. Use os.path.isreserved() to detect reserved paths on Windows.\n",
      "  if pathlib.PureWindowsPath(name_str).is_reserved():\n"
     ]
    }
   ],
   "execution_count": 2
  },
  {
   "metadata": {
    "ExecuteTime": {
     "end_time": "2025-08-13T00:22:34.437551Z",
     "start_time": "2025-08-13T00:22:29.137877Z"
    }
   },
   "cell_type": "code",
   "source": [
    "infile = ex.File(\"./compiled_data_2/data\", mode=\"r\")\n",
    "# dataset = infile[\"1_MidAcq\"][\"dataset\"][\"event_window_extracted_signals\"]\n",
    "\n",
    "fig = go.Figure()\n",
    "\n",
    "for day in list(infile.keys())[:3]:\n",
    "    dataset = None\n",
    "    try:\n",
    "        if \"dataset\" in list(infile[day].keys()):\n",
    "            dataset = infile[day][\"dataset\"]\n",
    "        else:\n",
    "            print(f\"Day: {day}, No Dataset\")\n",
    "            continue\n",
    "    except Exception as e:\n",
    "        print(f\"Error loading {day}: {e}\")\n",
    "\n",
    "    if dataset:\n",
    "        # mean_signal = gaussian_filter1d(np.nanmean(dataset, axis=0), sigma=1)\n",
    "        # fig.add_trace(\n",
    "        #     go.Scatter(\n",
    "        #         y=mean_signal,\n",
    "        #         mode='lines',\n",
    "        #         name=f\"{day}, {dataset.shape[0]} neurons\"\n",
    "        #     )\n",
    "        # )\n",
    "\n",
    "        median_signal = gaussian_filter1d(np.median(dataset, axis=0), sigma=2)\n",
    "        fig.add_trace(\n",
    "            go.Scatter(\n",
    "                y=median_signal,\n",
    "                mode='lines',\n",
    "                name=day\n",
    "            )\n",
    "        )\n",
    "\n",
    "fig.update_layout(\n",
    "    title='Signal Over Time',\n",
    "    xaxis_title='Sample Index',\n",
    "    yaxis_title='Signal Value',\n",
    "    legend_title=\"Dataset\",\n",
    "    legend=dict(\n",
    "        orientation=\"h\",\n",
    "        yanchor=\"bottom\",\n",
    "        y=1.02,\n",
    "        xanchor=\"right\",\n",
    "        x=1\n",
    "    ),\n",
    "    width=800,\n",
    "    height=600\n",
    ")\n",
    "\n",
    "fig.show()"
   ],
   "id": "7eb66d6683632ae1",
   "outputs": [
    {
     "data": {
      "application/vnd.plotly.v1+json": {
       "data": [
        {
         "mode": "lines",
         "name": "0_EarlyAcq",
         "y": {
          "dtype": "f8",
          "bdata": "0iBVCeIX7z+Byr5o/RXvP9qe/1bNEe8/Q/c31NAL7z9ekuFf/QXvP6gXl+nHAu8/Fm28K7sD7z+snT0EzwjvP8zHV7amEO8/YuB2mhMZ7z9GvLC8dR/vP7p+AfibIe8/rAi1vnIf7z8VLZyHrBvvP1wr+hepGe8/4qpF1Zka7z+6L5RwQx3vP6i7FypzIO8/DuB1fhwl7z9kysr2zS3vPzwJZD73O+8/GYTmjOBN7z/fgbas91/vP3bFTY7yb+8/aD8P1YR97z9UlBmJXIjvP2n/rUZQj+8/GBkD+B2S7z9+5LpQkJLvP9yql6gCk+8/5Ysj40+U7z+m1lmCkJXvPyTf5thQle8/Pgar3MmS7z+OHFKUkY7vP6w8q+uXiu8/dnRJUgSJ7z9q0+dwforvP2rgtX+ije8/to3t4XGQ7z8jX6b2HpLvPzOmK9cjk+8/Vhk2Fa+T7z/x6aWvkJLvPxGhi4Veju8/TA7vJ5iH7z+mqdHftoDvP5I937bde+8/6HshfEt57z/UgDlYYXjvP3aFPQVxee8/Me7eSel97z8RTnHuzYbvP+RRbIIZk+8/4LVl2OCf7z8CKWR1eqrvPzP+1x92su8/lLvu4zO57z8qLyEk17/vPy7VmygMxu8/TlTzd8PK7z8aDem9ls3vP3AEJWCrzu8/XkZak07N7z9t5BF7AMjvP4hwy/qnvu8/1RIFq6qz7z9mOu7hHqrvP+JBSAu/o+8/XvMTIteg7z+FtRuA2aDvP4JrVbNDou8/OqynQvSi7z+8zsd4s6HvP9/mP0FCn+8/EkSnV3Gd7z+euDtLW53vP1UUMqGRnu8/Ui8ElXOf7z/MItH9D57vP/qkdDxPme8/Zg/tiveR7z9sJWBGforvPwuWMEFwhe8/MPN0e9qD7z+ybjAoJYXvP1hXj+JBiO8/jOT0AcmM7z9KY5xWxZLvP2yiyvZ9me8/MIqliSqf7z8c6UCcaKLvP1C7spx4o+8/PijyzYyj7z+AVXx1dqPvP2OGReWXo+8/qJThobKk7z+YKr30J6jvP7YChfNCr+8/wFmbKB667z88dXLJGsfvP1TE+H+N0+8/8rhV20Ld7z/mn7LejuPvP/xX0Jn25u8/LJ/gKwno7z8LikDJ1+bvP7R+G5Bt4+8/Xuidw1je7z9a/BsNP9jvP5imOyTs0O8/+gFNmHPH7z/ZKQEahrvvP4yC2+4cru8/eqGXy5qg7z9P4C+505PvPwSEeQ1ViO8/X65/3zV/7z+2RyhQ8XnvP/2AhX5Tee8/bn0lLc187z8ORtbzy4LvP7h2orJvie8/7nHSDtWO7z8UgL3JKZHvP3i2ATZPj+8/nB1s/gaK7z+2nZ3pN4TvP96yrAMige8/EPpFKv+B7z/Ad4UU1YXvP+fpothxi+8/DmgVAZiS7z9AXDjFCpvvP0Dt4m13o+8/cJ8Ng+Cp7z+QkYY1wazvP/DXXS7Zq+8/0GjFQU2o7z+s5dYVyqPvP7ztgo5Sn+8/4puzhXCb7z+kmvvepZnvPxp0zVWVnO8//jwD28Sl7z8X+ENkQbPvP7M3LEsIwO8/0LjK0i7H7z9lIlgC6sbvP9i/BnP4wO8/WLqIw6G47z/kdi3zerDvP2AelcKnqe8/iD0RzFWk7z8uyXFLS6DvPwcFAWAxne8/3lgRtdya7z+CuzDhhJnvPw=="
         },
         "type": "scatter"
        },
        {
         "mode": "lines",
         "name": "1_MidAcq",
         "y": {
          "dtype": "f8",
          "bdata": "9BjlY8gM8D8vwUNhmQvwPyLWW2PFCfA/4g8QgL4H8D8wI/X3iwXwP4Dqi0s4A/A/2kNJF0wB8D+I2EIunADwPwD0xDGxAfA/bNeI33cE8D/zyH+2awjwP7vUyOruDPA/kpZIz3kR8D8KfWmPkhXwP6G5B6HDGPA/cLVErLIa8D892fsKORvwP3q5+/pnGvA/fchLMnYY8D8mcIl8nRXwP0oe4IoYEvA/Y+jOeUAO8D+QOumogwrwP8L1uEsxB/A/PPMNiGYE8D/xkJrVHwLwPy3RygU2APA/BgwOO7P87z+QpY2rivjvP6u5glwC9O8/fYapJbPv7z9qsuhtDezvP2oGMa3f6O8/Po12R7Xl7z9CnLc9iuLvP87GdpzV3+8/vuQ//9Ld7z+QHlDsEdzvP+CgZ+rf2e8/xjU3BcLW7z9gBG3AbtLvPyk0OZLfzO8/8TcvtZLG7z+QuZjqM8DvP1e1SdTrue8/xK9xK46z7z/JuxCfjq3vP8qyPNJSqe8/H2cLGmSo7z9qPo04VqvvP7KmVGwtse8/ogiSQJq37z8AyqZSNLzvP8d+f+80vu8/A5/Bdhe/7z+BXUdXCcHvP35UPAiGxO8/QB7fGs3H7z+aaSiPu8jvP7QdXGnQxu8/nZivuVrD7z9zOXNlA8DvP5yT9XVdve8/cm28ati67z/Z7K6z8LfvP/zXPB8fte8/NvtzE2+z7z+jan6xdLPvP6CGFjr6tO8/YIulMHa37z+CDOwHa7rvP9516dxUve8/Tb6jk5K/7z9Gvwr1osDvP2g4kZRuwO8/3ICuzzW/7z/bKX5IQ73vP0r6X4W/uu8/9sW/scm37z9mkbjGu7TvP57ehnNUsu8/P4M+tWCx7z+SjV3YHLLvPx6dOssRtO8/Jn++C5K27z/GmIOUJbnvP/+Qd/V7u+8/RIbEaUa97z86de+UX77vP3Nn2Pzovu8/cgh1pQK/7z+C2NQlkL7vPyzT1gaVve8/0LuKcJ287z+YzuH1XbzvP2SIlmPfvO8/ek5GJ1697z/AdmbXKb3vPyiHl+ZsvO8/qbRL8ru77z8jTATxArvvP7DUJhpwue8/E1DzAZy27z+6PtEohbPvP55WxNhOsu8/QxtJW+q07z8uDpPjq7vvP/QIZRESxe8/LI+0hhHP7z/8wuCEkdjvP1N8fDGv4e8/LhDhCtXq7z9M7am30/PvP0ZwqHjz++8/XRfc+WAB8D/5CPNBOwTwP7rhcHzNBvA/Hui9jFwJ8D9kXBHoJwzwP9yzbvtGD/A/41TIEnQS8D9Xx2saFBXwP+0UCI13FvA/2cKWXxEW8D/jB86voBPwP7fpEixfD/A/7/soMBcK8D/WV2q+AAXwP8DBiS9aAfA/GML9uqP/7z8aXyGxHADwP7DV2I8mAfA/aqNRGs0B8D8D1yMJjgHwP4s57r+pAPA/qBGNXEv/7z/KND/kJP3vP9iw1ZeL+e8/zIT4Tc/y7z8ChPtquejvP/ye0O5e3e8/fHtpwR7U7z8ZqAiglc/vP+Je9s8c0O8/aEz+AeDT7z+UK388RdjvP5gHrx1p2+8/nMyaGNDc7z9GXx2vXd3vP0BqxCTP3u8/si8mxqDi7z8MtEOMrujvP+qR0FzX7u8/HG1MeGzy7z8M7ZsSNPLvP4AzgngT7+8/lP8KDSnr7z+INpI7kejvPw=="
         },
         "type": "scatter"
        },
        {
         "mode": "lines",
         "name": "2_LateAcq",
         "y": {
          "dtype": "f8",
          "bdata": "5KDoRi/p7z/cImOz0OrvP6CzH47e7e8/Fp1rRqLx7z/C5j5WEvXvPzIO28px9+8/yofDbJ347z/0sccp1fjvP8g1G0t/+O8/UkLaLTj47z+YWNo6CvnvP3U6mRNM/O8/RmheN2IB8D9HlwQazwXwPy5ZoW01CvA/VonkwUMN8D+NavY+WA7wP2AtHR+4DfA/NkWyTiIM8D+LK5vRKgrwPxhqE+PmB/A/ODTvKh4F8D8+8aWFsgHwP7QHvDOm++8/ImZPu9zz7z8kvCcJ++zvP3JPF1t/5+8/8DF8ADnj7z/iNWVWqt/vPxLzx7OO3O8/tz9KK/nZ7z/iaBVkN9jvPxaReujL1+8/Qsnv20HZ7z8IAZUltNzvPyFZ8z9y4e8/Uvt9LTjm7z/KiO5S4unvPzQE948C7O8/qOQC08/s7z9KTZpTpezvP9Bc30yp6+8/89h+mL/p7z/qOiyomubvP+UDw3D94e8/3pJM8zzc7z/S3jgzkdbvP2hh3FLB0u8/2GAcBEHS7z9sicNhXtXvPzL59Lcx2+8/+K2Szz/i7z+MMN3GL+nvP9eE2eAx7+8/KwxlLhv07z8sBRRSRvjvP9MEuJVX/O8/+YnWt3MA8D/4DFZoAQPwPydojCByBfA/sPn9wCsH8D+Vn29eswfwP16wCAviBvA//LjQDw0F8D93P6BqHQPwP1Q23S8/AvA/xkwdQicD8D+8PrLSiwXwPytO7vFPCPA/NIl0CDIK8D9O8RPlcwrwP6aLp0AbCfA/IqTFl8IG8D8twlquNQTwP1dMwPwjAvA/uDICOP4A8D9iYgb46ADwP7itOSyvAfA/cNGKQ8AC8D9MSbDVUwPwP5OY4nbLAvA/EZ4fbSQB8D8Coqaa+P3vPz6RqZ0T+u8/6jpaZir37z/M7FAN0PTvPwm36DE78u8/hDoNTSHv7z+mqOSAQuzvP+W5DtgJ6+8/nLo99XTs7z+6hZCeW/DvPyjvhLem9e8/FtBXdOr67z/kMJtP8/7vP7iOcy2WAPA/xb86tdUA8D+fPSBObgDwP2Lh2VhW/+8/yqqWmxT+7z+UfHx+Vv7vP0TBn49PAPA/IuW2xfUB8D8tkjAvOQPwPzCg8JixA/A/ZNnvfdwD8D9sf8dRkQTwP66agVsWBvA/r5IC8twH8D9I6lkTHwnwP9WZvfyTCfA/MlFPS4YJ8D8jQsgFdgnwP2SxDJPFCfA/KgWHyJIK8D+BENblpAvwP9mTJyiFDPA/SOLottYM8D9p7+j4ogzwP0AuamlDDPA/MgOcsAwM8D904NC9HQzwP22zmT5sDPA/IhIPO+AM8D8I/lBtWA3wPxFG2MGeDfA/bLV7xHAN8D8oEWkJrwzwP3DXXaCNC/A/rCmRIY4K8D+TmSLAOArwP5JtGyLCCvA/PIkVGfEL8D/I+2j3Zw3wPxqumKLxDvA/gRLX9GQQ8D/ShpyNXBHwP0oZdLZQEfA/NXE5UAUQ8D9mfA0Xvg3wP1afuVAOC/A/EWvFjY8I8D+ukgsvpQbwP2TPxX8+BfA/JrzHl80D8D/DGGPmsgHwP/HsqZWM/e8/Tm3q1+j27z/thY/T6fDvPzZE9MvZ7O8/vuedgTbr7z8sHih4S+vvPzpHKyOw6+8/4qm+MrHr7z9it3JzL+zvPw4b70eP7u8/tEmJMpby7z/Cduqt2PXvPw=="
         },
         "type": "scatter"
        }
       ],
       "layout": {
        "template": {
         "data": {
          "histogram2dcontour": [
           {
            "type": "histogram2dcontour",
            "colorbar": {
             "outlinewidth": 0,
             "ticks": ""
            },
            "colorscale": [
             [
              0.0,
              "#0d0887"
             ],
             [
              0.1111111111111111,
              "#46039f"
             ],
             [
              0.2222222222222222,
              "#7201a8"
             ],
             [
              0.3333333333333333,
              "#9c179e"
             ],
             [
              0.4444444444444444,
              "#bd3786"
             ],
             [
              0.5555555555555556,
              "#d8576b"
             ],
             [
              0.6666666666666666,
              "#ed7953"
             ],
             [
              0.7777777777777778,
              "#fb9f3a"
             ],
             [
              0.8888888888888888,
              "#fdca26"
             ],
             [
              1.0,
              "#f0f921"
             ]
            ]
           }
          ],
          "choropleth": [
           {
            "type": "choropleth",
            "colorbar": {
             "outlinewidth": 0,
             "ticks": ""
            }
           }
          ],
          "histogram2d": [
           {
            "type": "histogram2d",
            "colorbar": {
             "outlinewidth": 0,
             "ticks": ""
            },
            "colorscale": [
             [
              0.0,
              "#0d0887"
             ],
             [
              0.1111111111111111,
              "#46039f"
             ],
             [
              0.2222222222222222,
              "#7201a8"
             ],
             [
              0.3333333333333333,
              "#9c179e"
             ],
             [
              0.4444444444444444,
              "#bd3786"
             ],
             [
              0.5555555555555556,
              "#d8576b"
             ],
             [
              0.6666666666666666,
              "#ed7953"
             ],
             [
              0.7777777777777778,
              "#fb9f3a"
             ],
             [
              0.8888888888888888,
              "#fdca26"
             ],
             [
              1.0,
              "#f0f921"
             ]
            ]
           }
          ],
          "heatmap": [
           {
            "type": "heatmap",
            "colorbar": {
             "outlinewidth": 0,
             "ticks": ""
            },
            "colorscale": [
             [
              0.0,
              "#0d0887"
             ],
             [
              0.1111111111111111,
              "#46039f"
             ],
             [
              0.2222222222222222,
              "#7201a8"
             ],
             [
              0.3333333333333333,
              "#9c179e"
             ],
             [
              0.4444444444444444,
              "#bd3786"
             ],
             [
              0.5555555555555556,
              "#d8576b"
             ],
             [
              0.6666666666666666,
              "#ed7953"
             ],
             [
              0.7777777777777778,
              "#fb9f3a"
             ],
             [
              0.8888888888888888,
              "#fdca26"
             ],
             [
              1.0,
              "#f0f921"
             ]
            ]
           }
          ],
          "contourcarpet": [
           {
            "type": "contourcarpet",
            "colorbar": {
             "outlinewidth": 0,
             "ticks": ""
            }
           }
          ],
          "contour": [
           {
            "type": "contour",
            "colorbar": {
             "outlinewidth": 0,
             "ticks": ""
            },
            "colorscale": [
             [
              0.0,
              "#0d0887"
             ],
             [
              0.1111111111111111,
              "#46039f"
             ],
             [
              0.2222222222222222,
              "#7201a8"
             ],
             [
              0.3333333333333333,
              "#9c179e"
             ],
             [
              0.4444444444444444,
              "#bd3786"
             ],
             [
              0.5555555555555556,
              "#d8576b"
             ],
             [
              0.6666666666666666,
              "#ed7953"
             ],
             [
              0.7777777777777778,
              "#fb9f3a"
             ],
             [
              0.8888888888888888,
              "#fdca26"
             ],
             [
              1.0,
              "#f0f921"
             ]
            ]
           }
          ],
          "surface": [
           {
            "type": "surface",
            "colorbar": {
             "outlinewidth": 0,
             "ticks": ""
            },
            "colorscale": [
             [
              0.0,
              "#0d0887"
             ],
             [
              0.1111111111111111,
              "#46039f"
             ],
             [
              0.2222222222222222,
              "#7201a8"
             ],
             [
              0.3333333333333333,
              "#9c179e"
             ],
             [
              0.4444444444444444,
              "#bd3786"
             ],
             [
              0.5555555555555556,
              "#d8576b"
             ],
             [
              0.6666666666666666,
              "#ed7953"
             ],
             [
              0.7777777777777778,
              "#fb9f3a"
             ],
             [
              0.8888888888888888,
              "#fdca26"
             ],
             [
              1.0,
              "#f0f921"
             ]
            ]
           }
          ],
          "mesh3d": [
           {
            "type": "mesh3d",
            "colorbar": {
             "outlinewidth": 0,
             "ticks": ""
            }
           }
          ],
          "scatter": [
           {
            "marker": {
             "line": {
              "color": "#283442"
             }
            },
            "type": "scatter"
           }
          ],
          "parcoords": [
           {
            "type": "parcoords",
            "line": {
             "colorbar": {
              "outlinewidth": 0,
              "ticks": ""
             }
            }
           }
          ],
          "scatterpolargl": [
           {
            "type": "scatterpolargl",
            "marker": {
             "colorbar": {
              "outlinewidth": 0,
              "ticks": ""
             }
            }
           }
          ],
          "bar": [
           {
            "error_x": {
             "color": "#f2f5fa"
            },
            "error_y": {
             "color": "#f2f5fa"
            },
            "marker": {
             "line": {
              "color": "rgb(17,17,17)",
              "width": 0.5
             },
             "pattern": {
              "fillmode": "overlay",
              "size": 10,
              "solidity": 0.2
             }
            },
            "type": "bar"
           }
          ],
          "scattergeo": [
           {
            "type": "scattergeo",
            "marker": {
             "colorbar": {
              "outlinewidth": 0,
              "ticks": ""
             }
            }
           }
          ],
          "scatterpolar": [
           {
            "type": "scatterpolar",
            "marker": {
             "colorbar": {
              "outlinewidth": 0,
              "ticks": ""
             }
            }
           }
          ],
          "histogram": [
           {
            "marker": {
             "pattern": {
              "fillmode": "overlay",
              "size": 10,
              "solidity": 0.2
             }
            },
            "type": "histogram"
           }
          ],
          "scattergl": [
           {
            "marker": {
             "line": {
              "color": "#283442"
             }
            },
            "type": "scattergl"
           }
          ],
          "scatter3d": [
           {
            "type": "scatter3d",
            "line": {
             "colorbar": {
              "outlinewidth": 0,
              "ticks": ""
             }
            },
            "marker": {
             "colorbar": {
              "outlinewidth": 0,
              "ticks": ""
             }
            }
           }
          ],
          "scattermap": [
           {
            "type": "scattermap",
            "marker": {
             "colorbar": {
              "outlinewidth": 0,
              "ticks": ""
             }
            }
           }
          ],
          "scattermapbox": [
           {
            "type": "scattermapbox",
            "marker": {
             "colorbar": {
              "outlinewidth": 0,
              "ticks": ""
             }
            }
           }
          ],
          "scatterternary": [
           {
            "type": "scatterternary",
            "marker": {
             "colorbar": {
              "outlinewidth": 0,
              "ticks": ""
             }
            }
           }
          ],
          "scattercarpet": [
           {
            "type": "scattercarpet",
            "marker": {
             "colorbar": {
              "outlinewidth": 0,
              "ticks": ""
             }
            }
           }
          ],
          "carpet": [
           {
            "aaxis": {
             "endlinecolor": "#A2B1C6",
             "gridcolor": "#506784",
             "linecolor": "#506784",
             "minorgridcolor": "#506784",
             "startlinecolor": "#A2B1C6"
            },
            "baxis": {
             "endlinecolor": "#A2B1C6",
             "gridcolor": "#506784",
             "linecolor": "#506784",
             "minorgridcolor": "#506784",
             "startlinecolor": "#A2B1C6"
            },
            "type": "carpet"
           }
          ],
          "table": [
           {
            "cells": {
             "fill": {
              "color": "#506784"
             },
             "line": {
              "color": "rgb(17,17,17)"
             }
            },
            "header": {
             "fill": {
              "color": "#2a3f5f"
             },
             "line": {
              "color": "rgb(17,17,17)"
             }
            },
            "type": "table"
           }
          ],
          "barpolar": [
           {
            "marker": {
             "line": {
              "color": "rgb(17,17,17)",
              "width": 0.5
             },
             "pattern": {
              "fillmode": "overlay",
              "size": 10,
              "solidity": 0.2
             }
            },
            "type": "barpolar"
           }
          ],
          "pie": [
           {
            "automargin": true,
            "type": "pie"
           }
          ]
         },
         "layout": {
          "autotypenumbers": "strict",
          "colorway": [
           "#636efa",
           "#EF553B",
           "#00cc96",
           "#ab63fa",
           "#FFA15A",
           "#19d3f3",
           "#FF6692",
           "#B6E880",
           "#FF97FF",
           "#FECB52"
          ],
          "font": {
           "color": "#f2f5fa"
          },
          "hovermode": "closest",
          "hoverlabel": {
           "align": "left"
          },
          "paper_bgcolor": "rgb(17,17,17)",
          "plot_bgcolor": "rgb(17,17,17)",
          "polar": {
           "bgcolor": "rgb(17,17,17)",
           "angularaxis": {
            "gridcolor": "#506784",
            "linecolor": "#506784",
            "ticks": ""
           },
           "radialaxis": {
            "gridcolor": "#506784",
            "linecolor": "#506784",
            "ticks": ""
           }
          },
          "ternary": {
           "bgcolor": "rgb(17,17,17)",
           "aaxis": {
            "gridcolor": "#506784",
            "linecolor": "#506784",
            "ticks": ""
           },
           "baxis": {
            "gridcolor": "#506784",
            "linecolor": "#506784",
            "ticks": ""
           },
           "caxis": {
            "gridcolor": "#506784",
            "linecolor": "#506784",
            "ticks": ""
           }
          },
          "coloraxis": {
           "colorbar": {
            "outlinewidth": 0,
            "ticks": ""
           }
          },
          "colorscale": {
           "sequential": [
            [
             0.0,
             "#0d0887"
            ],
            [
             0.1111111111111111,
             "#46039f"
            ],
            [
             0.2222222222222222,
             "#7201a8"
            ],
            [
             0.3333333333333333,
             "#9c179e"
            ],
            [
             0.4444444444444444,
             "#bd3786"
            ],
            [
             0.5555555555555556,
             "#d8576b"
            ],
            [
             0.6666666666666666,
             "#ed7953"
            ],
            [
             0.7777777777777778,
             "#fb9f3a"
            ],
            [
             0.8888888888888888,
             "#fdca26"
            ],
            [
             1.0,
             "#f0f921"
            ]
           ],
           "sequentialminus": [
            [
             0.0,
             "#0d0887"
            ],
            [
             0.1111111111111111,
             "#46039f"
            ],
            [
             0.2222222222222222,
             "#7201a8"
            ],
            [
             0.3333333333333333,
             "#9c179e"
            ],
            [
             0.4444444444444444,
             "#bd3786"
            ],
            [
             0.5555555555555556,
             "#d8576b"
            ],
            [
             0.6666666666666666,
             "#ed7953"
            ],
            [
             0.7777777777777778,
             "#fb9f3a"
            ],
            [
             0.8888888888888888,
             "#fdca26"
            ],
            [
             1.0,
             "#f0f921"
            ]
           ],
           "diverging": [
            [
             0,
             "#8e0152"
            ],
            [
             0.1,
             "#c51b7d"
            ],
            [
             0.2,
             "#de77ae"
            ],
            [
             0.3,
             "#f1b6da"
            ],
            [
             0.4,
             "#fde0ef"
            ],
            [
             0.5,
             "#f7f7f7"
            ],
            [
             0.6,
             "#e6f5d0"
            ],
            [
             0.7,
             "#b8e186"
            ],
            [
             0.8,
             "#7fbc41"
            ],
            [
             0.9,
             "#4d9221"
            ],
            [
             1,
             "#276419"
            ]
           ]
          },
          "xaxis": {
           "gridcolor": "#283442",
           "linecolor": "#506784",
           "ticks": "",
           "title": {
            "standoff": 15
           },
           "zerolinecolor": "#283442",
           "automargin": true,
           "zerolinewidth": 2
          },
          "yaxis": {
           "gridcolor": "#283442",
           "linecolor": "#506784",
           "ticks": "",
           "title": {
            "standoff": 15
           },
           "zerolinecolor": "#283442",
           "automargin": true,
           "zerolinewidth": 2
          },
          "scene": {
           "xaxis": {
            "backgroundcolor": "rgb(17,17,17)",
            "gridcolor": "#506784",
            "linecolor": "#506784",
            "showbackground": true,
            "ticks": "",
            "zerolinecolor": "#C8D4E3",
            "gridwidth": 2
           },
           "yaxis": {
            "backgroundcolor": "rgb(17,17,17)",
            "gridcolor": "#506784",
            "linecolor": "#506784",
            "showbackground": true,
            "ticks": "",
            "zerolinecolor": "#C8D4E3",
            "gridwidth": 2
           },
           "zaxis": {
            "backgroundcolor": "rgb(17,17,17)",
            "gridcolor": "#506784",
            "linecolor": "#506784",
            "showbackground": true,
            "ticks": "",
            "zerolinecolor": "#C8D4E3",
            "gridwidth": 2
           }
          },
          "shapedefaults": {
           "line": {
            "color": "#f2f5fa"
           }
          },
          "annotationdefaults": {
           "arrowcolor": "#f2f5fa",
           "arrowhead": 0,
           "arrowwidth": 1
          },
          "geo": {
           "bgcolor": "rgb(17,17,17)",
           "landcolor": "rgb(17,17,17)",
           "subunitcolor": "#506784",
           "showland": true,
           "showlakes": true,
           "lakecolor": "rgb(17,17,17)"
          },
          "title": {
           "x": 0.05
          },
          "updatemenudefaults": {
           "bgcolor": "#506784",
           "borderwidth": 0
          },
          "sliderdefaults": {
           "bgcolor": "#C8D4E3",
           "borderwidth": 1,
           "bordercolor": "rgb(17,17,17)",
           "tickwidth": 0
          },
          "mapbox": {
           "style": "dark"
          }
         }
        },
        "legend": {
         "title": {
          "text": "Dataset"
         },
         "orientation": "h",
         "yanchor": "bottom",
         "y": 1.02,
         "xanchor": "right",
         "x": 1
        },
        "title": {
         "text": "Signal Over Time"
        },
        "xaxis": {
         "title": {
          "text": "Sample Index"
         }
        },
        "yaxis": {
         "title": {
          "text": "Signal Value"
         }
        },
        "width": 800,
        "height": 600
       },
       "config": {
        "plotlyServerURL": "https://plot.ly"
       }
      }
     },
     "metadata": {},
     "output_type": "display_data"
    }
   ],
   "execution_count": 3
  }
 ],
 "metadata": {
  "kernelspec": {
   "display_name": "Python 3",
   "language": "python",
   "name": "python3"
  },
  "language_info": {
   "codemirror_mode": {
    "name": "ipython",
    "version": 2
   },
   "file_extension": ".py",
   "mimetype": "text/x-python",
   "name": "python",
   "nbconvert_exporter": "python",
   "pygments_lexer": "ipython2",
   "version": "2.7.6"
  }
 },
 "nbformat": 4,
 "nbformat_minor": 5
}
