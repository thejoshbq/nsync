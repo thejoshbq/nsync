{
 "cells": [
  {
   "metadata": {},
   "cell_type": "markdown",
   "source": "# Data Compilation",
   "id": "33992c878eaa35e0"
  },
  {
   "metadata": {
    "ExecuteTime": {
     "end_time": "2025-08-12T18:25:09.244971Z",
     "start_time": "2025-08-12T18:25:09.241393Z"
    }
   },
   "cell_type": "code",
   "source": [
    "# System modules\n",
    "import os\n",
    "import exdir as ex\n",
    "import warnings\n",
    "warnings.filterwarnings('always', category=UserWarning)\n",
    "warnings.filterwarnings('always', category=DeprecationWarning)\n",
    "\n",
    "# Data processing modules\n",
    "import numpy as np\n",
    "import nsync\n",
    "from scipy.ndimage import gaussian_filter1d\n",
    "\n",
    "# Visualization modules\n",
    "import plotly.graph_objects as go"
   ],
   "id": "33dfc84faef84298",
   "outputs": [],
   "execution_count": 4
  },
  {
   "metadata": {},
   "cell_type": "markdown",
   "source": "### Compile Data per FOV",
   "id": "6f94db7af0b51a20"
  },
  {
   "metadata": {
    "ExecuteTime": {
     "end_time": "2025-08-12T18:25:17.666676Z",
     "start_time": "2025-08-12T18:25:09.251749Z"
    }
   },
   "cell_type": "code",
   "source": [
    "root = \"./data\"\n",
    "output_path = os.path.join(\"./\", \"compiled_data_2\")\n",
    "if not os.path.exists(output_path):\n",
    "    os.mkdir(output_path)\n",
    "\n",
    "f = ex.File(os.path.join(output_path, \"data.exdir\"), mode=\"w\", allow_remove=True)\n",
    "\n",
    "if os.path.isdir(root):\n",
    "    for day in sorted(os.listdir(root)):\n",
    "        day_path = os.path.join(root, day)\n",
    "        if not os.path.isdir(day_path):\n",
    "            continue\n",
    "\n",
    "        # print(f\"Processing: {day}\")\n",
    "\n",
    "        day_group_name = day.replace(\" \", \"_\")\n",
    "        day_group = f.create_group(day_group_name)\n",
    "        day_group_dataset = []\n",
    "        day_num_neurons = 0\n",
    "\n",
    "        for animal in sorted(os.listdir(day_path)):\n",
    "            animal_path = os.path.join(day_path, animal)\n",
    "            if not os.path.isdir(animal_path):\n",
    "                continue\n",
    "\n",
    "            # print(f\"  -> {animal}\")\n",
    "\n",
    "            animal_group_name = animal.replace(\" \", \"_\")\n",
    "            animal_group = day_group.create_group(animal_group_name)\n",
    "\n",
    "            for fov in sorted(os.listdir(animal_path)):\n",
    "                fov_path = os.path.join(animal_path, fov)\n",
    "                if not os.path.isdir(fov_path):\n",
    "                    continue\n",
    "\n",
    "                # print(\"  \" * 2 + f\"  -> {fov}\")\n",
    "\n",
    "                fov_group_name = fov.replace(\" \", \"_\")\n",
    "                fov_group = animal_group.create_group(fov_group_name)\n",
    "\n",
    "                extracted_signals_files = sorted([os.path.join(fov_path, f) for f in os.listdir(fov_path) if f.endswith(\".npy\") and \"extractedsignals_raw\" in f])\n",
    "                behavior_event_log_files = sorted([os.path.join(fov_path, f) for f in os.listdir(fov_path) if f.endswith(\".mat\")])\n",
    "\n",
    "                dataset = nsync.NSyncDataset(behavior_event_log_files, extracted_signals_files)\n",
    "                day_num_neurons += dataset.num_neurons\n",
    "                extracted_unique_events = dataset.extract_unique_events()\n",
    "                extracted_windows = dataset.extract_normalized_windows()\n",
    "                normalized_extracted_windows = nsync.normalize_windows(extracted_windows)\n",
    "                if normalized_extracted_windows.ndim == 3:\n",
    "                    day_group_dataset.append(normalized_extracted_windows)\n",
    "\n",
    "        day_group_dataset = [np.nanmean(d, axis=0) for d in day_group_dataset]\n",
    "        day_group_dataset = np.vstack(day_group_dataset)\n",
    "        day_group.create_dataset(\"dataset\", data=day_group_dataset)\n",
    "        print(f\"Day: {day}, Animals: {len(os.listdir(day_path))}, Num Neurons: {day_num_neurons}\")"
   ],
   "id": "c47da291dd0635fb",
   "outputs": [
    {
     "name": "stderr",
     "output_type": "stream",
     "text": [
      "/home/thejoshbq/Desktop/PFC Self-Admin Analysis/nsync.py:57: RuntimeWarning:\n",
      "\n",
      "divide by zero encountered in divide\n",
      "\n",
      "/home/thejoshbq/Desktop/PFC Self-Admin Analysis/nsync.py:57: RuntimeWarning:\n",
      "\n",
      "invalid value encountered in divide\n",
      "\n",
      "/home/thejoshbq/Desktop/PFC Self-Admin Analysis/nsync.py:57: RuntimeWarning:\n",
      "\n",
      "divide by zero encountered in divide\n",
      "\n",
      "/home/thejoshbq/Desktop/PFC Self-Admin Analysis/nsync.py:57: RuntimeWarning:\n",
      "\n",
      "invalid value encountered in divide\n",
      "\n"
     ]
    },
    {
     "name": "stdout",
     "output_type": "stream",
     "text": [
      "Day: 0 EarlyAcq, Animals: 17, Num Neurons: 2392\n",
      "Day: 1 MidAcq, Animals: 17, Num Neurons: 2592\n"
     ]
    },
    {
     "name": "stderr",
     "output_type": "stream",
     "text": [
      "/home/thejoshbq/Desktop/PFC Self-Admin Analysis/nsync.py:57: RuntimeWarning:\n",
      "\n",
      "divide by zero encountered in divide\n",
      "\n",
      "/home/thejoshbq/Desktop/PFC Self-Admin Analysis/nsync.py:57: RuntimeWarning:\n",
      "\n",
      "invalid value encountered in divide\n",
      "\n"
     ]
    },
    {
     "name": "stdout",
     "output_type": "stream",
     "text": [
      "Day: 2 LateAcq, Animals: 17, Num Neurons: 2237\n",
      "Insufficient target events found.\n",
      "Insufficient target events found.\n"
     ]
    },
    {
     "name": "stderr",
     "output_type": "stream",
     "text": [
      "/home/thejoshbq/Desktop/PFC Self-Admin Analysis/nsync.py:57: RuntimeWarning:\n",
      "\n",
      "divide by zero encountered in divide\n",
      "\n",
      "/home/thejoshbq/Desktop/PFC Self-Admin Analysis/nsync.py:57: RuntimeWarning:\n",
      "\n",
      "invalid value encountered in divide\n",
      "\n"
     ]
    },
    {
     "name": "stdout",
     "output_type": "stream",
     "text": [
      "Insufficient target events found.\n",
      "Insufficient target events found.\n",
      "Day: 3 EarlyExt, Animals: 17, Num Neurons: 2284\n",
      "Insufficient target events found.\n",
      "Insufficient target events found.\n",
      "Insufficient target events found.\n",
      "Insufficient target events found.\n",
      "Insufficient target events found.\n",
      "Insufficient target events found.\n",
      "Insufficient target events found.\n",
      "Insufficient target events found.\n",
      "Insufficient target events found.\n",
      "Insufficient target events found.\n",
      "Insufficient target events found.\n",
      "Insufficient target events found.\n",
      "Insufficient target events found.\n",
      "Insufficient target events found.\n",
      "Day: 4 LastExt, Animals: 17, Num Neurons: 2198\n",
      "Insufficient target events found.\n",
      "Day: 5 CueRein, Animals: 17, Num Neurons: 2192\n",
      "Insufficient target events found.\n",
      "Day: 6 DrugRein, Animals: 16, Num Neurons: 2381\n",
      "Day: 7 TMTRein, Animals: 16, Num Neurons: 2223\n"
     ]
    }
   ],
   "execution_count": 5
  },
  {
   "metadata": {
    "ExecuteTime": {
     "end_time": "2025-08-12T18:25:22.794385Z",
     "start_time": "2025-08-12T18:25:17.760793Z"
    }
   },
   "cell_type": "code",
   "source": [
    "infile = ex.File(\"./compiled_data_2/data\", mode=\"r\")\n",
    "# dataset = infile[\"1_MidAcq\"][\"dataset\"][\"event_window_extracted_signals\"]\n",
    "\n",
    "fig = go.Figure()\n",
    "\n",
    "for day in list(infile.keys())[:3]:\n",
    "    dataset = None\n",
    "    try:\n",
    "        if \"dataset\" in list(infile[day].keys()):\n",
    "            dataset = infile[day][\"dataset\"]\n",
    "        else:\n",
    "            print(f\"Day: {day}, No Dataset\")\n",
    "            continue\n",
    "    except Exception as e:\n",
    "        print(f\"Error loading {day}: {e}\")\n",
    "\n",
    "    if dataset:\n",
    "        mean_signal = gaussian_filter1d(np.nanmean(dataset, axis=0), sigma=1)\n",
    "        fig.add_trace(\n",
    "            go.Scatter(\n",
    "                y=mean_signal,\n",
    "                mode='lines',\n",
    "                name=f\"{day}, {dataset.shape[0]} neurons\"\n",
    "            )\n",
    "        )\n",
    "\n",
    "        # median_signal = np.median(dataset, axis=0)\n",
    "        # fig.add_trace(\n",
    "        #     go.Scatter(\n",
    "        #         y=median_signal,\n",
    "        #         mode='lines',\n",
    "        #         name=day\n",
    "        #     )\n",
    "        # )\n",
    "\n",
    "fig.update_layout(\n",
    "    title='Signal Over Time',\n",
    "    xaxis_title='Sample Index',\n",
    "    yaxis_title='Signal Value',\n",
    "    legend_title=\"Dataset\",\n",
    "    legend=dict(\n",
    "        orientation=\"h\",\n",
    "        yanchor=\"bottom\",\n",
    "        y=1.02,\n",
    "        xanchor=\"right\",\n",
    "        x=1\n",
    "    ),\n",
    "    width=800,\n",
    "    height=600\n",
    ")\n",
    "\n",
    "fig.show()\n"
   ],
   "id": "7ec9dbe72d73c368",
   "outputs": [
    {
     "data": {
      "application/vnd.plotly.v1+json": {
       "data": [
        {
         "mode": "lines",
         "name": "0_EarlyAcq, 2392 neurons",
         "y": {
          "dtype": "f8",
          "bdata": "lY8aCJK2kT9b4vthDmeTP64w8kPyMYM/UeuoRh7vbb+2M6HSGUWFv2Rco4J1+IC/qsdKz/Ixcr+sF/t8+eJgv+DwCqMJXDi/CHMzcDzBcb/h++/e/J2Cv4Lwgn3EcIq/ungkbQL5k7/2XmIjmA6Vvze8AqL8p4O/MhxJxH/pgj8EYULdYRCTPwAAAAAAAPB/AAAAAAAA8H8AAAAAAADwfwAAAAAAAPB/AAAAAAAA8H8AAAAAAADwfwAAAAAAAPB/AAAAAAAA8H8AAAAAAADwfwAAAAAAAPB/AAAAAAAA8H8AAAAAAADwfwAAAAAAAPB/AAAAAAAA8H8AAAAAAADwfwAAAAAAAPB/AAAAAAAA8H8AAAAAAADwfwAAAAAAAPB/AAAAAAAA8H8AAAAAAADwfwAAAAAAAPB/AAAAAAAA8H8AAAAAAADwfwAAAAAAAPB/AAAAAAAA8H8AAAAAAADwfwAAAAAAAPB/AAAAAAAA8H8AAAAAAADwfwAAAAAAAPB/AAAAAAAA8H8AAAAAAADwfwAAAAAAAPB/AAAAAAAA8H8AAAAAAADwfwAAAAAAAPB/AAAAAAAA8H8AAAAAAADwfwAAAAAAAPB/AAAAAAAA8H8AAAAAAADwfwAAAAAAAPB/AAAAAAAA8H8AAAAAAADwfwAAAAAAAPB/AAAAAAAA8H8AAAAAAADwfwAAAAAAAPB/AAAAAAAA8H8AAAAAAADwfwAAAAAAAPB/AAAAAAAA8H8AAAAAAADwfwAAAAAAAPB/AAAAAAAA8H8AAAAAAADwfwAAAAAAAPB/AAAAAAAA8H8AAAAAAADwfwAAAAAAAPB/AAAAAAAA8H8AAAAAAADwfwAAAAAAAPB/AAAAAAAA8H8AAAAAAADwfwAAAAAAAPB/AAAAAAAA8H8AAAAAAADwfwAAAAAAAPB/AAAAAAAA8H8AAAAAAADwfwAAAAAAAPB/AAAAAAAA8H8AAAAAAADwfwAAAAAAAPB/AAAAAAAA8H8AAAAAAADwfwAAAAAAAPB/AAAAAAAA8H8AAAAAAADwfwAAAAAAAPB/AAAAAAAA8H8AAAAAAADwfwAAAAAAAPB/AAAAAAAA8H8AAAAAAADwfwAAAAAAAPB/AAAAAAAA8H8AAAAAAADwfwAAAAAAAPB/AAAAAAAA8H8AAAAAAADwfwAAAAAAAPB/AAAAAAAA8H8AAAAAAADwfwAAAAAAAPB/AAAAAAAA8H8AAAAAAADwfwAAAAAAAPB/AAAAAAAA8H8AAAAAAADwfwAAAAAAAPB/AAAAAAAA8H8AAAAAAADwfwAAAAAAAPB/AAAAAAAA8H8AAAAAAADwfwAAAAAAAPB/AAAAAAAA8H8AAAAAAADwfwAAAAAAAPB/AAAAAAAA8H8AAAAAAADwfwAAAAAAAPB/AAAAAAAA8H8AAAAAAADwfwAAAAAAAPB/AAAAAAAA8H8AAAAAAADwfwAAAAAAAPB/AAAAAAAA8H8AAAAAAADwfwAAAAAAAPB/AAAAAAAA8H8AAAAAAADwfwAAAAAAAPB/AAAAAAAA8H8AAAAAAADwfwAAAAAAAPB/AAAAAAAA8H8AAAAAAADwfwAAAAAAAPB/AAAAAAAA8H8AAAAAAADwfwAAAAAAAPB/AAAAAAAA8H8AAAAAAADwfwAAAAAAAPB/AAAAAAAA8H8AAAAAAADwfw=="
         },
         "type": "scatter"
        },
        {
         "mode": "lines",
         "name": "1_MidAcq, 2592 neurons",
         "y": {
          "dtype": "f8",
          "bdata": "bLbAmTQCkz+S/EkxqweHP35xjJCx8HU/7QddNl5Paj+1BFbKWqtMPzQoiol2e2q/E5HOnnPqfr/YUuGacW6Fvw/aqTfyTYO/Bvvc9VMNcr8cYISCfTpDv+hh9fddbVo/lhuZ6RuoiD/QsbI+uGCeP3/B/JZ+DaU/smXpSeNspj/gvpbiS66lP7dVx9YcFaI/zFhe9aeynD8ADiN2Cf2eP+B8+QjRhp8/MHDjs6Y4mD+tnMhuFtqSP/OEiZPC2Yw/ZvmDqMdedj81qu+5gSlRP2Oklvwr+HM/2WC2IYvBgj95tsRMjOqDP2hgOoxvYHg/QMeU4O0TCT8mJ8IK7lh8v7TVZXE5pom/iNWz9ydFkL8J7K/WfwOTv60qNE2S15K/ssAOpZATjb9RlAjJTaqJv6WV/ywAsI+/+yO0GetnlL/AOKmcwOyXvxI3I3lhR56/oIEJ2Bsqpb9w87Ce0Dyqvz7u6CQh7Ku/WbJ/Xu2Oqr+nIL2/ClKpv8d5ivLHXam/YvVkO78lqL9nqsmAanKnv8o/b8nh+aS/5KEeQjuFob/eSg3oMTifvytFEmJTs6G/vi5B/s7rpr9yzyHutLylv8UTApznLpy/Enf4xVYnlL9/6YrDgSqWv3hspRbHQZu/7/pyc5LKoL+4lF7jDKihv+wXYT9xvKC/5fEff+Q2n79cQ+w8jXShv6qcn1oPOaa/JuzxMvvzqb+mzfijS1Kqv+JtnbyqOqW/ZNgqIoTIm7/upNwPSIqQv5lOkmwzkoO/5gfo4qmQgb9+4xAeypqHv0SFW2ZE/o2/XRz0EcNMkL9LTIlHvk+VvzxeC+ldf52/8bYgel/Un7/45740Ujqiv0RscpZZ5Ke/YNlqeOgIrb8MkHnUwKWsv4zqxuPY/qa/enubPnW1ob9Zu5EkiG2ev15vn3NgwZq/jvyEp+M5mL/bKV6ywriWv+G8qeMkgZe/JQVs0P7tlb+Q3/EKtrOPv0nKb1u11Y+/gWKGb5ALlb9WRoM/9YGTv/ho4ks4eYm/4IbeRyimfr8YyYwoQFqQv/05nb2pi6C/wZB891o2ob86f1k3X2aWv5P75bxotJG/7oBk/gp4kb9pGJ7dBcKPv0pyChnM5JW/DwBEQOFpnL8EPAOQfvSXv88rpngpJY2/0O5YnsTed79Bc0ZpacNYv0rr56VKXFU/Gwmj1AaygT9Qz6b0R7SWPzAhVrtxcaA/EJTaPH9doT8qqVo8ux+lP6LjLtx7BK4/6NOQAdv3sj+WMg2k+BW1P61lAr8t1LY/vQ17yqAVuT++SU7alGq6PwZrdQSKors/KM+UfyLXvD8cNDkkT8m8P+LOCJl6e7s/NNSLAEzCuT86Tpy9NwS3P1jm5lEJJbQ/lCQLXjhesj+K6HZkJqmyP1g2oVtY87M/3pVtCQ6utD90M5/mriq0P0A3BhwMqLI/TTlHyQ2RsT9eVYSQFkaxP1xSQ0eDnLA/YyxxdOKbqz+wNRT+ST2gP64Ez9VW8HA/7G0O4bEtib/utG9KDfKNv8do5jYq74q/sj/CtCo8hL+9HMOifrx1v34Y04jhiWa/fFwBhJBfYL8gKqze9FJWvxzfII/Kd1O/+Zu2+C13db8c5HEmtYdwv4uvLL0Vdm4/6r5qhDIogj/X19BQOJp2P7rM23rwyFY/wP30h2nENL9H0D8urkl3vw=="
         },
         "type": "scatter"
        },
        {
         "mode": "lines",
         "name": "2_LateAcq, 2237 neurons",
         "y": {
          "dtype": "f8",
          "bdata": "+//VqAT1gz+jy0xAmcOHP7CZAXtM6I8/6/AQJv8UkT/OpdJ2iHqKPyYhNSmnKX0/Box8P2bsZj+ch+cQ+mhKv1aWVWYceIK/LEZsniEik78AAAAAAADwfwAAAAAAAPB/AAAAAAAA8H8AAAAAAADwfwAAAAAAAPB/AAAAAAAA8H8AAAAAAADwfwAAAAAAAPB/AAAAAAAA8H8AAAAAAADwfwAAAAAAAPB/AAAAAAAA8H8AAAAAAADwfwAAAAAAAPB/AAAAAAAA8H8AAAAAAADwfwAAAAAAAPB/AAAAAAAA8H8AAAAAAADwfwAAAAAAAPB/AAAAAAAA8H8AAAAAAADwfwAAAAAAAPB/AAAAAAAA8H8AAAAAAADwfwAAAAAAAPB/AAAAAAAA8H8AAAAAAADwfwAAAAAAAPB/AAAAAAAA8H8AAAAAAADwfwAAAAAAAPB/AAAAAAAA8H8AAAAAAADwfwAAAAAAAPB/AAAAAAAA8H8AAAAAAADwfwAAAAAAAPB/AAAAAAAA8H8AAAAAAADwfwAAAAAAAPB/AAAAAAAA8H8AAAAAAADwfwAAAAAAAPB/AAAAAAAA8H8AAAAAAADwfwAAAAAAAPB/AAAAAAAA8H8AAAAAAADwfwAAAAAAAPB/AAAAAAAA8H8AAAAAAADwfwAAAAAAAPB/AAAAAAAA8H8AAAAAAADwfwAAAAAAAPB/AAAAAAAA8H8AAAAAAADwfwAAAAAAAPB/AAAAAAAA8H8AAAAAAADwfwAAAAAAAPB/AAAAAAAA8H8AAAAAAADwfwAAAAAAAPB/AAAAAAAA8H8AAAAAAADwfwAAAAAAAPB/AAAAAAAA8H8AAAAAAADwfwAAAAAAAPB/AAAAAAAA8H8AAAAAAADwfwAAAAAAAPB/AAAAAAAA8H8AAAAAAADwfwAAAAAAAPB/AAAAAAAA8H8AAAAAAADwfwAAAAAAAPB/AAAAAAAA8H8AAAAAAADwfwAAAAAAAPB/AAAAAAAA8H8AAAAAAADwfwAAAAAAAPB/AAAAAAAA8H8AAAAAAADwfwAAAAAAAPB/AAAAAAAA8H8AAAAAAADwfwAAAAAAAPB/AAAAAAAA8H8AAAAAAADwfwAAAAAAAPB/AAAAAAAA8H8AAAAAAADwfwAAAAAAAPB/AAAAAAAA8H8AAAAAAADwfwAAAAAAAPB/AAAAAAAA8H8AAAAAAADwfwAAAAAAAPB/AAAAAAAA8H8AAAAAAADwfwAAAAAAAPB/AAAAAAAA8H8AAAAAAADwfwAAAAAAAPB/AAAAAAAA8H8AAAAAAADwfwAAAAAAAPB/AAAAAAAA8H8AAAAAAADwfwAAAAAAAPB/AAAAAAAA8H8AAAAAAADwfwAAAAAAAPB/AAAAAAAA8H8AAAAAAADwfwAAAAAAAPB/AAAAAAAA8H8AAAAAAADwfwAAAAAAAPB/AAAAAAAA8H8AAAAAAADwfwAAAAAAAPB/AAAAAAAA8H8AAAAAAADwfwAAAAAAAPB/AAAAAAAA8H8AAAAAAADwfwAAAAAAAPB/AAAAAAAA8H8AAAAAAADwfwAAAAAAAPB/AAAAAAAA8H8AAAAAAADwfwAAAAAAAPB/AAAAAAAA8H8AAAAAAADwfwAAAAAAAPB/AAAAAAAA8H8AAAAAAADwfwAAAAAAAPB/AAAAAAAA8H8AAAAAAADwfw=="
         },
         "type": "scatter"
        }
       ],
       "layout": {
        "template": {
         "data": {
          "histogram2dcontour": [
           {
            "type": "histogram2dcontour",
            "colorbar": {
             "outlinewidth": 0,
             "ticks": ""
            },
            "colorscale": [
             [
              0.0,
              "#0d0887"
             ],
             [
              0.1111111111111111,
              "#46039f"
             ],
             [
              0.2222222222222222,
              "#7201a8"
             ],
             [
              0.3333333333333333,
              "#9c179e"
             ],
             [
              0.4444444444444444,
              "#bd3786"
             ],
             [
              0.5555555555555556,
              "#d8576b"
             ],
             [
              0.6666666666666666,
              "#ed7953"
             ],
             [
              0.7777777777777778,
              "#fb9f3a"
             ],
             [
              0.8888888888888888,
              "#fdca26"
             ],
             [
              1.0,
              "#f0f921"
             ]
            ]
           }
          ],
          "choropleth": [
           {
            "type": "choropleth",
            "colorbar": {
             "outlinewidth": 0,
             "ticks": ""
            }
           }
          ],
          "histogram2d": [
           {
            "type": "histogram2d",
            "colorbar": {
             "outlinewidth": 0,
             "ticks": ""
            },
            "colorscale": [
             [
              0.0,
              "#0d0887"
             ],
             [
              0.1111111111111111,
              "#46039f"
             ],
             [
              0.2222222222222222,
              "#7201a8"
             ],
             [
              0.3333333333333333,
              "#9c179e"
             ],
             [
              0.4444444444444444,
              "#bd3786"
             ],
             [
              0.5555555555555556,
              "#d8576b"
             ],
             [
              0.6666666666666666,
              "#ed7953"
             ],
             [
              0.7777777777777778,
              "#fb9f3a"
             ],
             [
              0.8888888888888888,
              "#fdca26"
             ],
             [
              1.0,
              "#f0f921"
             ]
            ]
           }
          ],
          "heatmap": [
           {
            "type": "heatmap",
            "colorbar": {
             "outlinewidth": 0,
             "ticks": ""
            },
            "colorscale": [
             [
              0.0,
              "#0d0887"
             ],
             [
              0.1111111111111111,
              "#46039f"
             ],
             [
              0.2222222222222222,
              "#7201a8"
             ],
             [
              0.3333333333333333,
              "#9c179e"
             ],
             [
              0.4444444444444444,
              "#bd3786"
             ],
             [
              0.5555555555555556,
              "#d8576b"
             ],
             [
              0.6666666666666666,
              "#ed7953"
             ],
             [
              0.7777777777777778,
              "#fb9f3a"
             ],
             [
              0.8888888888888888,
              "#fdca26"
             ],
             [
              1.0,
              "#f0f921"
             ]
            ]
           }
          ],
          "contourcarpet": [
           {
            "type": "contourcarpet",
            "colorbar": {
             "outlinewidth": 0,
             "ticks": ""
            }
           }
          ],
          "contour": [
           {
            "type": "contour",
            "colorbar": {
             "outlinewidth": 0,
             "ticks": ""
            },
            "colorscale": [
             [
              0.0,
              "#0d0887"
             ],
             [
              0.1111111111111111,
              "#46039f"
             ],
             [
              0.2222222222222222,
              "#7201a8"
             ],
             [
              0.3333333333333333,
              "#9c179e"
             ],
             [
              0.4444444444444444,
              "#bd3786"
             ],
             [
              0.5555555555555556,
              "#d8576b"
             ],
             [
              0.6666666666666666,
              "#ed7953"
             ],
             [
              0.7777777777777778,
              "#fb9f3a"
             ],
             [
              0.8888888888888888,
              "#fdca26"
             ],
             [
              1.0,
              "#f0f921"
             ]
            ]
           }
          ],
          "surface": [
           {
            "type": "surface",
            "colorbar": {
             "outlinewidth": 0,
             "ticks": ""
            },
            "colorscale": [
             [
              0.0,
              "#0d0887"
             ],
             [
              0.1111111111111111,
              "#46039f"
             ],
             [
              0.2222222222222222,
              "#7201a8"
             ],
             [
              0.3333333333333333,
              "#9c179e"
             ],
             [
              0.4444444444444444,
              "#bd3786"
             ],
             [
              0.5555555555555556,
              "#d8576b"
             ],
             [
              0.6666666666666666,
              "#ed7953"
             ],
             [
              0.7777777777777778,
              "#fb9f3a"
             ],
             [
              0.8888888888888888,
              "#fdca26"
             ],
             [
              1.0,
              "#f0f921"
             ]
            ]
           }
          ],
          "mesh3d": [
           {
            "type": "mesh3d",
            "colorbar": {
             "outlinewidth": 0,
             "ticks": ""
            }
           }
          ],
          "scatter": [
           {
            "marker": {
             "line": {
              "color": "#283442"
             }
            },
            "type": "scatter"
           }
          ],
          "parcoords": [
           {
            "type": "parcoords",
            "line": {
             "colorbar": {
              "outlinewidth": 0,
              "ticks": ""
             }
            }
           }
          ],
          "scatterpolargl": [
           {
            "type": "scatterpolargl",
            "marker": {
             "colorbar": {
              "outlinewidth": 0,
              "ticks": ""
             }
            }
           }
          ],
          "bar": [
           {
            "error_x": {
             "color": "#f2f5fa"
            },
            "error_y": {
             "color": "#f2f5fa"
            },
            "marker": {
             "line": {
              "color": "rgb(17,17,17)",
              "width": 0.5
             },
             "pattern": {
              "fillmode": "overlay",
              "size": 10,
              "solidity": 0.2
             }
            },
            "type": "bar"
           }
          ],
          "scattergeo": [
           {
            "type": "scattergeo",
            "marker": {
             "colorbar": {
              "outlinewidth": 0,
              "ticks": ""
             }
            }
           }
          ],
          "scatterpolar": [
           {
            "type": "scatterpolar",
            "marker": {
             "colorbar": {
              "outlinewidth": 0,
              "ticks": ""
             }
            }
           }
          ],
          "histogram": [
           {
            "marker": {
             "pattern": {
              "fillmode": "overlay",
              "size": 10,
              "solidity": 0.2
             }
            },
            "type": "histogram"
           }
          ],
          "scattergl": [
           {
            "marker": {
             "line": {
              "color": "#283442"
             }
            },
            "type": "scattergl"
           }
          ],
          "scatter3d": [
           {
            "type": "scatter3d",
            "line": {
             "colorbar": {
              "outlinewidth": 0,
              "ticks": ""
             }
            },
            "marker": {
             "colorbar": {
              "outlinewidth": 0,
              "ticks": ""
             }
            }
           }
          ],
          "scattermap": [
           {
            "type": "scattermap",
            "marker": {
             "colorbar": {
              "outlinewidth": 0,
              "ticks": ""
             }
            }
           }
          ],
          "scattermapbox": [
           {
            "type": "scattermapbox",
            "marker": {
             "colorbar": {
              "outlinewidth": 0,
              "ticks": ""
             }
            }
           }
          ],
          "scatterternary": [
           {
            "type": "scatterternary",
            "marker": {
             "colorbar": {
              "outlinewidth": 0,
              "ticks": ""
             }
            }
           }
          ],
          "scattercarpet": [
           {
            "type": "scattercarpet",
            "marker": {
             "colorbar": {
              "outlinewidth": 0,
              "ticks": ""
             }
            }
           }
          ],
          "carpet": [
           {
            "aaxis": {
             "endlinecolor": "#A2B1C6",
             "gridcolor": "#506784",
             "linecolor": "#506784",
             "minorgridcolor": "#506784",
             "startlinecolor": "#A2B1C6"
            },
            "baxis": {
             "endlinecolor": "#A2B1C6",
             "gridcolor": "#506784",
             "linecolor": "#506784",
             "minorgridcolor": "#506784",
             "startlinecolor": "#A2B1C6"
            },
            "type": "carpet"
           }
          ],
          "table": [
           {
            "cells": {
             "fill": {
              "color": "#506784"
             },
             "line": {
              "color": "rgb(17,17,17)"
             }
            },
            "header": {
             "fill": {
              "color": "#2a3f5f"
             },
             "line": {
              "color": "rgb(17,17,17)"
             }
            },
            "type": "table"
           }
          ],
          "barpolar": [
           {
            "marker": {
             "line": {
              "color": "rgb(17,17,17)",
              "width": 0.5
             },
             "pattern": {
              "fillmode": "overlay",
              "size": 10,
              "solidity": 0.2
             }
            },
            "type": "barpolar"
           }
          ],
          "pie": [
           {
            "automargin": true,
            "type": "pie"
           }
          ]
         },
         "layout": {
          "autotypenumbers": "strict",
          "colorway": [
           "#636efa",
           "#EF553B",
           "#00cc96",
           "#ab63fa",
           "#FFA15A",
           "#19d3f3",
           "#FF6692",
           "#B6E880",
           "#FF97FF",
           "#FECB52"
          ],
          "font": {
           "color": "#f2f5fa"
          },
          "hovermode": "closest",
          "hoverlabel": {
           "align": "left"
          },
          "paper_bgcolor": "rgb(17,17,17)",
          "plot_bgcolor": "rgb(17,17,17)",
          "polar": {
           "bgcolor": "rgb(17,17,17)",
           "angularaxis": {
            "gridcolor": "#506784",
            "linecolor": "#506784",
            "ticks": ""
           },
           "radialaxis": {
            "gridcolor": "#506784",
            "linecolor": "#506784",
            "ticks": ""
           }
          },
          "ternary": {
           "bgcolor": "rgb(17,17,17)",
           "aaxis": {
            "gridcolor": "#506784",
            "linecolor": "#506784",
            "ticks": ""
           },
           "baxis": {
            "gridcolor": "#506784",
            "linecolor": "#506784",
            "ticks": ""
           },
           "caxis": {
            "gridcolor": "#506784",
            "linecolor": "#506784",
            "ticks": ""
           }
          },
          "coloraxis": {
           "colorbar": {
            "outlinewidth": 0,
            "ticks": ""
           }
          },
          "colorscale": {
           "sequential": [
            [
             0.0,
             "#0d0887"
            ],
            [
             0.1111111111111111,
             "#46039f"
            ],
            [
             0.2222222222222222,
             "#7201a8"
            ],
            [
             0.3333333333333333,
             "#9c179e"
            ],
            [
             0.4444444444444444,
             "#bd3786"
            ],
            [
             0.5555555555555556,
             "#d8576b"
            ],
            [
             0.6666666666666666,
             "#ed7953"
            ],
            [
             0.7777777777777778,
             "#fb9f3a"
            ],
            [
             0.8888888888888888,
             "#fdca26"
            ],
            [
             1.0,
             "#f0f921"
            ]
           ],
           "sequentialminus": [
            [
             0.0,
             "#0d0887"
            ],
            [
             0.1111111111111111,
             "#46039f"
            ],
            [
             0.2222222222222222,
             "#7201a8"
            ],
            [
             0.3333333333333333,
             "#9c179e"
            ],
            [
             0.4444444444444444,
             "#bd3786"
            ],
            [
             0.5555555555555556,
             "#d8576b"
            ],
            [
             0.6666666666666666,
             "#ed7953"
            ],
            [
             0.7777777777777778,
             "#fb9f3a"
            ],
            [
             0.8888888888888888,
             "#fdca26"
            ],
            [
             1.0,
             "#f0f921"
            ]
           ],
           "diverging": [
            [
             0,
             "#8e0152"
            ],
            [
             0.1,
             "#c51b7d"
            ],
            [
             0.2,
             "#de77ae"
            ],
            [
             0.3,
             "#f1b6da"
            ],
            [
             0.4,
             "#fde0ef"
            ],
            [
             0.5,
             "#f7f7f7"
            ],
            [
             0.6,
             "#e6f5d0"
            ],
            [
             0.7,
             "#b8e186"
            ],
            [
             0.8,
             "#7fbc41"
            ],
            [
             0.9,
             "#4d9221"
            ],
            [
             1,
             "#276419"
            ]
           ]
          },
          "xaxis": {
           "gridcolor": "#283442",
           "linecolor": "#506784",
           "ticks": "",
           "title": {
            "standoff": 15
           },
           "zerolinecolor": "#283442",
           "automargin": true,
           "zerolinewidth": 2
          },
          "yaxis": {
           "gridcolor": "#283442",
           "linecolor": "#506784",
           "ticks": "",
           "title": {
            "standoff": 15
           },
           "zerolinecolor": "#283442",
           "automargin": true,
           "zerolinewidth": 2
          },
          "scene": {
           "xaxis": {
            "backgroundcolor": "rgb(17,17,17)",
            "gridcolor": "#506784",
            "linecolor": "#506784",
            "showbackground": true,
            "ticks": "",
            "zerolinecolor": "#C8D4E3",
            "gridwidth": 2
           },
           "yaxis": {
            "backgroundcolor": "rgb(17,17,17)",
            "gridcolor": "#506784",
            "linecolor": "#506784",
            "showbackground": true,
            "ticks": "",
            "zerolinecolor": "#C8D4E3",
            "gridwidth": 2
           },
           "zaxis": {
            "backgroundcolor": "rgb(17,17,17)",
            "gridcolor": "#506784",
            "linecolor": "#506784",
            "showbackground": true,
            "ticks": "",
            "zerolinecolor": "#C8D4E3",
            "gridwidth": 2
           }
          },
          "shapedefaults": {
           "line": {
            "color": "#f2f5fa"
           }
          },
          "annotationdefaults": {
           "arrowcolor": "#f2f5fa",
           "arrowhead": 0,
           "arrowwidth": 1
          },
          "geo": {
           "bgcolor": "rgb(17,17,17)",
           "landcolor": "rgb(17,17,17)",
           "subunitcolor": "#506784",
           "showland": true,
           "showlakes": true,
           "lakecolor": "rgb(17,17,17)"
          },
          "title": {
           "x": 0.05
          },
          "updatemenudefaults": {
           "bgcolor": "#506784",
           "borderwidth": 0
          },
          "sliderdefaults": {
           "bgcolor": "#C8D4E3",
           "borderwidth": 1,
           "bordercolor": "rgb(17,17,17)",
           "tickwidth": 0
          },
          "mapbox": {
           "style": "dark"
          }
         }
        },
        "legend": {
         "title": {
          "text": "Dataset"
         },
         "orientation": "h",
         "yanchor": "bottom",
         "y": 1.02,
         "xanchor": "right",
         "x": 1
        },
        "title": {
         "text": "Signal Over Time"
        },
        "xaxis": {
         "title": {
          "text": "Sample Index"
         }
        },
        "yaxis": {
         "title": {
          "text": "Signal Value"
         }
        },
        "width": 800,
        "height": 600
       },
       "config": {
        "plotlyServerURL": "https://plot.ly"
       }
      }
     },
     "metadata": {},
     "output_type": "display_data"
    }
   ],
   "execution_count": 6
  }
 ],
 "metadata": {
  "kernelspec": {
   "display_name": "Python 3",
   "language": "python",
   "name": "python3"
  },
  "language_info": {
   "codemirror_mode": {
    "name": "ipython",
    "version": 2
   },
   "file_extension": ".py",
   "mimetype": "text/x-python",
   "name": "python",
   "nbconvert_exporter": "python",
   "pygments_lexer": "ipython2",
   "version": "2.7.6"
  }
 },
 "nbformat": 4,
 "nbformat_minor": 5
}
